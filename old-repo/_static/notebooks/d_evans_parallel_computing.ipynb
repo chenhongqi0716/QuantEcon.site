{
 "metadata": {
  "kernelspec": {
   "display_name": "IPython (Python 2)",
   "name": "python2"
  },
  "language_info": {
   "codemirror_mode": {
    "name": "ipython",
    "version": 2
   },
   "file_extension": ".py",
   "mimetype": "text/x-python",
   "name": "python",
   "nbconvert_exporter": "python",
   "pygments_lexer": "ipython2",
   "version": "2.7.8"
  },
  "name": "",
  "signature": "sha256:2b3d67838d302efd5c2737707c8c9ec2b3ddfe84601dd43f8c5a4e87d09ed33a"
 },
 "nbformat": 3,
 "nbformat_minor": 0,
 "worksheets": [
  {
   "cells": [
    {
     "cell_type": "heading",
     "level": 1,
     "metadata": {},
     "source": [
      "Parallel Computing for Economics with Python"
     ]
    },
    {
     "cell_type": "heading",
     "level": 2,
     "metadata": {},
     "source": [
      "Types of Parallel Computing"
     ]
    },
    {
     "cell_type": "markdown",
     "metadata": {},
     "source": [
      "When boiled down to its basics there are two types of parallel computing environments: Shared Memory Multiple Processors (SMMP) and Distributed Memory Multiple Processors.  SMMP will be the parallel environment most people are familiar with.  Nearly all computers today have two or more processors sharing the same memory.  Languages like C,C++ and Fortran can use OpenMP to quickly parallelize for loops in and SMMP environment.  In addition many numpy operations such as `.dot` are compiled to take advantage of parallel code in the BLAS matrix libraries.  Shared memory environments are generally easier to write parallel code for: in many cases it can be as simple as adding `#parfor` to a for loop.  There is a limit, however to the number of processors that can share the same memory and eventually we have to move on to a distributed memory environment."
     ]
    },
    {
     "cell_type": "markdown",
     "metadata": {},
     "source": [
      "In a DMMP environment each computational node has its own memory and the nodes are linked together through a network.  As the memory for the nodes are separate, they need to communicate periodically to work on a joint project.  There are multiple ways to handle this communication, for this lecture we will focus on two: MPI which can be accessed through the python library `mpi4py` and IPython parallel.  At the heart of the python language is the GIL, or Global Interpreter Lock, this allows only one thread to access the memory of the python program at a point in time.  This effectively requires python code to be parallelized using DMMP techniques.  This may seem like a disadvantage, but in reality most economic applications are so easily parallelized that the overhead of using MPI is negligible."
     ]
    },
    {
     "cell_type": "heading",
     "level": 2,
     "metadata": {},
     "source": [
      "mpi4py"
     ]
    },
    {
     "cell_type": "markdown",
     "metadata": {},
     "source": [
      "We will begin with an overview of how to use mpi4py to produce parallel code.  MPI itself has a rich set of commands to govern the communications between processes.  We will be focussing on a simple subset of these, but they should be sufficient for almost all economic applications.  The best way to think about parallel code using mpi4py in this setup is $N$ processes running the same python script independently of each other which occasionally communicate with each other via commands from mpi4py."
     ]
    },
    {
     "cell_type": "markdown",
     "metadata": {},
     "source": [
      "When they communicate it is necessary for the processes to distinguish one from another.  Thus, each is assigned its own rank.  If an MPI command launches 8 processes then the ranks of these processes will run from 0 to 7.  This will allow us to have the script execute different commands for each process.  To illustrate this let's consider the following simple program:"
     ]
    },
    {
     "cell_type": "code",
     "collapsed": false,
     "input": [
      "from mpi4py import MPI\n",
      "\n",
      "comm = MPI.COMM_WORLD #retrieve the communicator module\n",
      "rank = comm.Get_rank() #get the rank of the process\n",
      "size = comm.Get_size() #get the number of processes\n",
      "\n",
      "print \"Hello world from process \"+str(rank)+\" of \" + str(size)"
     ],
     "language": "python",
     "metadata": {},
     "outputs": [
      {
       "output_type": "stream",
       "stream": "stdout",
       "text": [
        "Hello world from process 0 of 1\n"
       ]
      }
     ],
     "prompt_number": 1
    },
    {
     "cell_type": "markdown",
     "metadata": {},
     "source": [
      "In this case the code was launched from a single application so the number of processes was one.  To launch more than one process running the same python script we need to launch them using the command `mpiexec`.  For example, if the code above was stored in `mpi_helloworld` to launch 8 processes we would run the following command in the terminal. (All code files used in this tutorial can be produced by jumping to the [.py files appendix](#Appendix:-.py-files-used) and running all its cells)"
     ]
    },
    {
     "cell_type": "code",
     "collapsed": false,
     "input": [
      "!mpiexec -n 8 python mpi_helloworld.py "
     ],
     "language": "python",
     "metadata": {},
     "outputs": [
      {
       "output_type": "stream",
       "stream": "stdout",
       "text": [
        "Hello world from process 4 of 8Hello world from process 6 of 8Hello world from process 1 of 8\n",
        "Hello world from process 7 of 8Hello world from process 5 of 8Hello world from process 2 of 8Hello world from process 0 of 8\n",
        "Hello world from process 3 of 8\n",
        "\n",
        "\n",
        "\n",
        "\n",
        "\n"
       ]
      }
     ],
     "prompt_number": 2
    },
    {
     "cell_type": "markdown",
     "metadata": {},
     "source": [
      "Note the ! is only necessary to launch the shell command using IPython."
     ]
    },
    {
     "cell_type": "heading",
     "level": 2,
     "metadata": {},
     "source": [
      "The `mpi4pi` Toolkit"
     ]
    },
    {
     "cell_type": "markdown",
     "metadata": {},
     "source": [
      "Handling communication between processes is the most important part of parallel programming. There are a multitude of commands in mpi4py to do this but we will focus on 3: `gather`, `allgather` and `bcast`.  These will allow us to confront almost all of the problems we face in Economics."
     ]
    },
    {
     "cell_type": "heading",
     "level": 3,
     "metadata": {},
     "source": [
      "`gather` and `allgather`"
     ]
    },
    {
     "cell_type": "markdown",
     "metadata": {},
     "source": [
      "We use `gather` if there is data on all processes which we want to pull together into a single process.  For example, if you have a program that solves an optimization problem using value function iteration, each process can solve the optimization problem on a separate chunk of the state space.  It would then be possible to gather the results for interpolation before continuing on to the next stage of the iteration.  For the process of rank 0 `gather` returns a list with the data from each process ordered by the rank of the process.  For the rest of the processes `gather` returns a `None`."
     ]
    },
    {
     "cell_type": "markdown",
     "metadata": {},
     "source": [
      "Another natural application of gather is Monte Carlo integration.  In this simple example we compute the expected value random variable `cos(x)` when x is distributed according to a standard normal distribution. The code is in `MPI_montecarlo.py`."
     ]
    },
    {
     "cell_type": "code",
     "collapsed": false,
     "input": [
      "import numpy as np\n",
      "from mpi4py import MPI\n",
      "\n",
      "N = 10000\n",
      "\n",
      "comm = MPI.COMM_WORLD\n",
      "rank = comm.Get_rank()\n",
      "\n",
      "x = np.random.randn(N)\n",
      "my_result = np.cos(x).mean() #my average\n",
      "\n",
      "#now average accross all processes\n",
      "results = comm.gather(my_result)\n",
      "if rank == 0: #only rank =0 process has the results\n",
      "    print np.mean(results)"
     ],
     "language": "python",
     "metadata": {},
     "outputs": [
      {
       "output_type": "stream",
       "stream": "stdout",
       "text": [
        "0.609786007283\n"
       ]
      }
     ],
     "prompt_number": 3
    },
    {
     "cell_type": "markdown",
     "metadata": {},
     "source": [
      "The result above was computed with a single process.  We can run it with multiple processes via `mpiexec`."
     ]
    },
    {
     "cell_type": "code",
     "collapsed": false,
     "input": [
      "!mpiexec -n 8 python MPI_montecarlo.py"
     ],
     "language": "python",
     "metadata": {},
     "outputs": [
      {
       "output_type": "stream",
       "stream": "stdout",
       "text": [
        "0.604869401582\r\n"
       ]
      }
     ],
     "prompt_number": 4
    },
    {
     "cell_type": "markdown",
     "metadata": {},
     "source": [
      "`allgather` performs a very similar function to gather.  The difference is in which processes receive the data.  In the above example the process with rank 0 has an object `results` which contains a list of the result of the sum for each process.  For every other process `results` is a None.  If `allgather` were used in place of `gather` the results object would be the same in all processes.  Consider the following variant of our Monte Carlo example"
     ]
    },
    {
     "cell_type": "code",
     "collapsed": false,
     "input": [
      "import numpy as np\n",
      "from mpi4py import MPI\n",
      "\n",
      "N = 10000\n",
      "\n",
      "comm = MPI.COMM_WORLD\n",
      "rank = comm.Get_rank()\n",
      "\n",
      "x = np.random.randn(N)\n",
      "my_result = np.cos(x).mean() #my average\n",
      "\n",
      "#now gather from all processes\n",
      "results = comm.gather(my_result)\n",
      "\n",
      "print \"Gather result for process \" + str(rank) +\":\",results\n",
      "\n",
      "#now allgather from all processes\n",
      "results = comm.allgather(my_result)\n",
      "\n",
      "print \"Allgather results for process \" + str(rank) + \":\",results"
     ],
     "language": "python",
     "metadata": {},
     "outputs": [
      {
       "output_type": "stream",
       "stream": "stdout",
       "text": [
        "Gather result for process 0: [0.60874091317723722]\n",
        "Allgather results for process 0: [0.60874091317723722]\n"
       ]
      }
     ],
     "prompt_number": 5
    },
    {
     "cell_type": "markdown",
     "metadata": {},
     "source": [
      "If we run this for multiple processes we get the following results:"
     ]
    },
    {
     "cell_type": "code",
     "collapsed": false,
     "input": [
      "!mpiexec -n 4 python MPI_montecarlo_allgather.py"
     ],
     "language": "python",
     "metadata": {},
     "outputs": [
      {
       "output_type": "stream",
       "stream": "stdout",
       "text": [
        "Gather result for process 3:Gather result for process 1:Gather result for process 2: None\r\n",
        "Gather result for process 0:  None\r\n",
        "[ None\r\n",
        "0.60091745551034126, 0.60693142509506504, 0.60728852275641343, 0.60919713014334897]\r\n",
        "Allgather resuts for process 0: [Allgather resuts for process 3: [0.60091745551034126, 0.60693142509506504, 0.60728852275641343, 0.60919713014334897]\r\n",
        "0.60091745551034126, Allgather resuts for process 2: [0.60091745551034126, 0.60693142509506504, 0.60728852275641343, 0.60919713014334897]\r\n",
        "0.60693142509506504, 0.60728852275641343, 0.60919713014334897]\r\n",
        "Allgather resuts for process 1: [0.60091745551034126, 0.60693142509506504, 0.60728852275641343, 0.60919713014334897]\r\n"
       ]
      }
     ],
     "prompt_number": 6
    },
    {
     "cell_type": "markdown",
     "metadata": {},
     "source": [
      "As expected with gather only the process with rank 0 has the list containing the Monte Carlo average for each process.  With `allgather` each process has the same list.  As all of the processes are running simultaneously the printed results may be jumbled, but the code will always print the `gather` results before the `allgather` results.  The reason for this is that both `allgather` and `gather` are blocking.  Once a process has reached the `gather` command it will not continue until all other processes have reached that command as well.  This ensures that your code will remained synced throughout execution.\n",
      "\n",
      "There is one caveat.  On some systems I have found `allgather` may hang if there are too many processes.  If this occurs it may be necessary to replace and `allgather` command with a combination of `gather` and the `bcast` command discussed below or the numpy versions of these commands."
     ]
    },
    {
     "cell_type": "heading",
     "level": 2,
     "metadata": {},
     "source": [
      "bcast"
     ]
    },
    {
     "cell_type": "markdown",
     "metadata": {},
     "source": [
      "One can think of `bcast` as the reverse of `gather`.  Instead of gathering data at the root process (the process with rank 0), `bcast` takes data on the root process and sends it to all the other processes.  Take this simple code:"
     ]
    },
    {
     "cell_type": "code",
     "collapsed": false,
     "input": [
      "import numpy as np\n",
      "from mpi4py import MPI\n",
      "\n",
      "comm = MPI.COMM_WORLD\n",
      "rank = comm.Get_rank()\n",
      "\n",
      "if rank == 0:\n",
      "    A = np.random.rand(5,5)\n",
      "else:\n",
      "    A = None\n",
      "    \n",
      "B = comm.bcast(A)"
     ],
     "language": "python",
     "metadata": {},
     "outputs": [],
     "prompt_number": 7
    },
    {
     "cell_type": "markdown",
     "metadata": {},
     "source": [
      "This code creates a `5x5` matrix on the process with rank 0.  It then broadcasts that matrix to all the other processes and stores it in the variable `B`.  Note, that `A` still holds none for the processes with rank other than 0."
     ]
    },
    {
     "cell_type": "heading",
     "level": 3,
     "metadata": {},
     "source": [
      "What can be sent?"
     ]
    },
    {
     "cell_type": "markdown",
     "metadata": {},
     "source": [
      "A natural question at this point is what kind of python objects can be sent between processes with `mpi4py`.  It turns out that nearly all python objects can be sent via `mpi4py`.  The way that an object is sent via mpi4py is that it is first pickled, which converts the python object to a string.  The string is a then sent to the other processes which then convert it back into its original form.  This makes `mpi4py` very flexible.  Nearly all objects in python are picklable, including most user defined classes, which means that most objects can be communicated from one object to another.  In some cases, such as classes defined with Cython, it may be necessary to tell python how to pickle and unpickle an object, but these are generally outside normal usage.\n",
      "\n",
      "This flexibility does have a drawback.  Python must convert the object to a string and then back again, which can make sending an object slow.  If your program relies on frequent communication between processes it may be worth it to use versions of `gather` and `allgather` designed for numpy arrays.  When these are used Python no longer pickles the object and instead shares the numpy array data directly.  We discuss these in the next section."
     ]
    },
    {
     "cell_type": "heading",
     "level": 3,
     "metadata": {},
     "source": [
      "The Numpy Versions"
     ]
    },
    {
     "cell_type": "markdown",
     "metadata": {},
     "source": [
      "All of the `mpi4py` commands we have discussed have corresponding numpy versions.  You can recognize these commands because they begin with a capital letter.  For example, the numpy version of `allgather` is `Allgather`.  The usage of these commands is also slightly different.  To see how this works let's consider the following example:"
     ]
    },
    {
     "cell_type": "code",
     "collapsed": false,
     "input": [
      "import numpy as np\n",
      "from mpi4py import MPI\n",
      "\n",
      "comm = MPI.COMM_WORLD\n",
      "rank = comm.Get_rank()\n",
      "size = comm.Get_size()\n",
      "\n",
      "# create a 2x2 array filled with the rank of the process\n",
      "x = np.ones((2,2)) * rank \n",
      "\n",
      "# create an empty array to store the gathered result\n",
      "X = np.empty((2*size,2))\n",
      "\n",
      "#use numpy Allgather\n",
      "                #send buffer   #recv buffer\n",
      "comm.Allgather([x, MPI.DOUBLE],[X, MPI.DOUBLE])\n",
      "\n",
      "if rank ==0:\n",
      "    print X"
     ],
     "language": "python",
     "metadata": {},
     "outputs": [
      {
       "output_type": "stream",
       "stream": "stdout",
       "text": [
        "[[ 0.  0.]\n",
        " [ 0.  0.]]\n"
       ]
      }
     ],
     "prompt_number": 8
    },
    {
     "cell_type": "markdown",
     "metadata": {},
     "source": [
      "If we run this command with 4 processes it returns:"
     ]
    },
    {
     "cell_type": "code",
     "collapsed": false,
     "input": [
      "!mpiexec -n 4 python MPI_Allgather.py"
     ],
     "language": "python",
     "metadata": {},
     "outputs": [
      {
       "output_type": "stream",
       "stream": "stdout",
       "text": [
        "[[ 0.  0.]\r\n",
        " [ 0.  0.]\r\n",
        " [ 1.  1.]\r\n",
        " [ 1.  1.]\r\n",
        " [ 2.  2.]\r\n",
        " [ 2.  2.]\r\n",
        " [ 3.  3.]\r\n",
        " [ 3.  3.]]\r\n"
       ]
      }
     ],
     "prompt_number": 9
    },
    {
     "cell_type": "markdown",
     "metadata": {},
     "source": [
      "We see some immediate differences between the usage of `allgather` and `Allgather`.  The first is that `Allgather` gives us a numpy array rather than a list.  A good rule of thumb is that `Allgather` will return the equivalent of `np.vstack(comm.Allgather(x))`.  We also must preallocate space for that array.  `Allgather` takes two inputs. `[x, MPI.DOUBLE]` is the send buffer where we specify the numpy array we wish to send and the type of data stored in it.  `[X, MPI.DOUBLE]` is the numpy array where we wish to store the result and the type of data it holds.  `Allgather` and `Gather` work best when all of the data spread across the different processes have the same shape otherwise it will also be necessary to the length of each vector as well."
     ]
    },
    {
     "cell_type": "heading",
     "level": 2,
     "metadata": {},
     "source": [
      "An Economic Example"
     ]
    },
    {
     "cell_type": "markdown",
     "metadata": {},
     "source": [
      "We can now use `mpi4py` to solve a simple economics problem in parallel.  For this example we will study a simple consumption savings model with incomplete markets.  Consider an agent how faces a random endowment stream $y_t = exp(z_t)$ which is AR(1) in logs\n",
      "$$\n",
      "    z_t = \\rho z_{t-1} + \\epsilon_t\n",
      "$$  The agent cannot perfectly insure against this random endowment and can only save through a risk free bond with interest rate $r$.  The budget constraint of the agent is then\n",
      "$$\n",
      "    (1+r)a_{t-1} + y_t = c_t + a_t.  \n",
      "$$  Additionally agents face an ad-hoc borrowing constraint $a_t \\geq \\underline a$ for all $t\\geq0$.\n",
      "\n",
      "The problem can be written recursively as follows.  Let $V(a,z)$ be the value of an agent who enters the period with assets $a$ and endowment $\\exp(z)$.  $V(a,z)$ then solves the following bellman equation\n",
      "$$\n",
      "    V(a,z) = \\max_{a' \\geq \\underline a} U( (1+r)a + \\exp(z) - a' ) + \\beta \\mathbb E_z V(a',z')\n",
      "$$  Define the mapping $T$ associated with the bellman equation as \n",
      "$$\n",
      "    T(V)(a,z) = \\max_{a' \\geq \\underline a} U( (1+r)a + \\exp(z) - a' ) + \\beta \\mathbb E_z V(a',z')\n",
      "$$the solution to this bellman equation is the fixed point of this mapping.\n",
      "\n",
      "The python modules `bellman.py`, `primitives.py` and `Main.py` are written to solve this problem, see the [appendix](#Appendix:-.py-files-used) for the code.  `primitives.py` defines the parameters that are the primitives of the problem and may easily be adapted for different types of preferences.  For example we can can create a Para object holding the parameters of our problem as via:"
     ]
    },
    {
     "cell_type": "code",
     "collapsed": false,
     "input": [
      "from primitives import primitives_CRRA\n",
      "Para = primitives_CRRA()"
     ],
     "language": "python",
     "metadata": {},
     "outputs": [],
     "prompt_number": 10
    },
    {
     "cell_type": "markdown",
     "metadata": {},
     "source": [
      "`bellman.py` defines the Bellman Map class.  This can be constructed from a parameter class and an interest rate $r$:"
     ]
    },
    {
     "cell_type": "code",
     "collapsed": false,
     "input": [
      "import bellman\n",
      "r = 0.9995*(1./Para.beta - 1)\n",
      "T = bellman.BellmanMap(Para,r)"
     ],
     "language": "python",
     "metadata": {},
     "outputs": [],
     "prompt_number": 11
    },
    {
     "cell_type": "markdown",
     "metadata": {},
     "source": [
      "`T` here corresponds exactly to the $T$ defined in the equations above.  For a given continuation value function $V$, `T(V)` is a function that computes the maximum of the agents' utility function.  For example if we define $V_0$ below:"
     ]
    },
    {
     "cell_type": "code",
     "collapsed": false,
     "input": [
      "from numpy import *\n",
      "V0 = lambda a,z : Para.U(exp(z)+r*a)/(1-Para.beta)\n",
      "print T(V0)([1.,0.]), T(V0)([1.,1.])"
     ],
     "language": "python",
     "metadata": {},
     "outputs": [
      {
       "output_type": "stream",
       "stream": "stdout",
       "text": [
        "-19.0776632874 -7.95513729592\n"
       ]
      }
     ],
     "prompt_number": 12
    },
    {
     "cell_type": "markdown",
     "metadata": {},
     "source": [
      "It will print out the value after one iteration for an agent with $(a,z) = (1,0)$ and $(1,1)$, respectively.  All of this code is written just as it would be for serial execution and we won't go into detail into the precise nature of the code.  Instead, we will focus on how to parallelize the solution of the Bellman Equation.  The key step is approximating the current value function $T(V)$ via interpolation.  We proceed by creating a grid over the $(a,z)$ space (with more points placed where the value function has greater curvature."
     ]
    },
    {
     "cell_type": "code",
     "collapsed": false,
     "input": [
      "agrid = hstack((linspace(Para.a_min,Para.a_min+1.,15),\n",
      "                linspace(Para.a_min+2.,Para.a_max,15)))\n",
      "zgrid = linspace(Para.z_min,Para.z_max,10)\n",
      "\n",
      "Para.domain = vstack([(a,z) for a in agrid for z in zgrid])\n",
      "\n",
      "from matplotlib.pyplot import plot\n",
      "%matplotlib inline\n",
      "plot(Para.domain[:,0],Para.domain[:,1],'o')"
     ],
     "language": "python",
     "metadata": {},
     "outputs": [
      {
       "metadata": {},
       "output_type": "pyout",
       "prompt_number": 13,
       "text": [
        "[<matplotlib.lines.Line2D at 0x7f12a3e44d90>]"
       ]
      },
      {
       "metadata": {},
       "output_type": "display_data",
       "png": "[encoded data removed]",
       "text": [
        "<matplotlib.figure.Figure at 0x7f12a3ef8ed0>"
       ]
      }
     ],
     "prompt_number": 13
    },
    {
     "cell_type": "markdown",
     "metadata": {},
     "source": [
      "We can then approximate the value function $T(V)$ by evaluating $T(V)$ at each point in the domain and interpolating using cubic splines.  If we wished to perform this serially the function would look something like this:"
     ]
    },
    {
     "cell_type": "code",
     "collapsed": false,
     "input": [
      "from scipy.interpolate import SmoothBivariateSpline\n",
      "\n",
      "def approximateValueFunction_Serial(TV,Para):\n",
      "    '''\n",
      "    Approximates the value function over the grid defined by Para.domain.\n",
      "    '''\n",
      "    #get the value at each point in the domaain\n",
      "    Vs = hstack(map(TV,Para.domain))\n",
      "    #approximate using cubic splines\n",
      "    Vf = SmoothBivariateSpline(Para.domain[:,0],Para.domain[:,1],Vs)\n",
      "    return Vf,Vs"
     ],
     "language": "python",
     "metadata": {},
     "outputs": [],
     "prompt_number": 14
    },
    {
     "cell_type": "markdown",
     "metadata": {},
     "source": [
      "Note that $T(V)$ takes a numpy array as an input so applying $T(V)$ to each element of `Para.domain` is a straightforward implementation of the `map` command.  It is important to realize that once the continuation value function is known the evaluation of $T(V)$ on each of the points in `Para.domain` is independent.  We can therefore easily parallelize the function as follows (this function is contained in `bellman.py`):"
     ]
    },
    {
     "cell_type": "code",
     "collapsed": false,
     "input": [
      "from mpi4py import MPI\n",
      "\n",
      "def approximateValueFunction(TV,Para):\n",
      "    '''\n",
      "    Approximates the value function over the grid defined by Para.domain.  Uses\n",
      "    mpi. Returns both an interpolated value function and the value of TV at each point\n",
      "    in the domain.\n",
      "    '''\n",
      "    comm = MPI.COMM_WORLD\n",
      "    #first split up domain for each process\n",
      "    s = comm.Get_size()\n",
      "    rank = comm.Get_rank()\n",
      "    n = len(Para.domain)\n",
      "    m = n//s\n",
      "    r = n%s\n",
      "    #let each process take a slice of the domain\n",
      "    mydomain = Para.domain[rank*m+min(rank,r):(rank+1)*m+min(rank+1,r)]\n",
      "\n",
      "    #get the value at each point in my domaain\n",
      "    myV = hstack(map(TV,mydomain))\n",
      "    #gather the values for each process\n",
      "    Vs = comm.gather(myV)\n",
      "    \n",
      "    if rank == 0:\n",
      "        #fit the values\n",
      "        Vs = hstack(Vs).flatten()\n",
      "        Vf = SmoothBivariateSpline(Para.domain[:,0],Para.domain[:,1],Vs)\n",
      "    else:\n",
      "        Vf = None\n",
      "    return comm.bcast(Vf),comm.bcast(Vs)"
     ],
     "language": "python",
     "metadata": {},
     "outputs": [],
     "prompt_number": 15
    },
    {
     "cell_type": "markdown",
     "metadata": {},
     "source": [
      "Walking through the code the first 8 lines split up the domain into chunks for each process to work on.  First we divide the number of points in the domain `n` by the number of process `s`.  This gives us the number of points per process `m`.  If the number of processes were to divide evenly into the number of points then the process of rank 0 would take the first `m` points, the process with rank 1 would take the next `m` points, etc.  If they do not divide evenly the command\n",
      "\n",
      "`\n",
      "mydomain = Para.domain[rank*m+min(rank,r):(rank+1)*m+min(rank+1,r)]\n",
      "`\n",
      "\n",
      "adds an extra point to the first `r` processes where `r = n mod s`.\n",
      "\n",
      "The next line evaluates $T(V)$ at each point in the `mydomain`, the processes' slice of `Para.domain`.  The program then gathers the values of `TV` computed by each process.  Since the list produce by gather is ordered by the rank of the processes, when we combine via `hstack` we get a list of values equivalent to `hstack(map(TV,Para.domain))`.  The rank zero process then fits the value function using `SmoothBivariateSpline` and broadcasts it to the other processes.  We can iterate the value function:"
     ]
    },
    {
     "cell_type": "code",
     "collapsed": false,
     "input": [
      "comm = MPI.COMM_WORLD\n",
      "rank = comm.Get_rank()\n",
      "\n",
      "Vf,Vs = bellman.approximateValueFunction(T(V0),Para)\n",
      "for t in range(0,10):  \n",
      "    Vfnew,Vsnew = bellman.approximateValueFunction(T(Vf),Para)\n",
      "    if rank == 0:\n",
      "        print max(abs(Vs-Vsnew))\n",
      "    Vf = Vfnew\n",
      "    Vs = Vsnew"
     ],
     "language": "python",
     "metadata": {},
     "outputs": [
      {
       "output_type": "stream",
       "stream": "stdout",
       "text": [
        "21.4696863104\n",
        "14.0421106942\n",
        "10.5408456781\n",
        "7.53581446045\n",
        "5.87085402644\n",
        "4.67845883118\n",
        "3.75852972605\n",
        "3.03921754918\n",
        "2.47192092856\n",
        "2.02123946321\n"
       ]
      }
     ],
     "prompt_number": 16
    },
    {
     "cell_type": "markdown",
     "metadata": {},
     "source": [
      "Note even though the function is written using `mpi4py` it can work as well with a single process as with ten."
     ]
    },
    {
     "cell_type": "heading",
     "level": 2,
     "metadata": {},
     "source": [
      "IPython Parallel"
     ]
    },
    {
     "cell_type": "markdown",
     "metadata": {},
     "source": [
      "Our final toolkit for parallel computations with python is `IPython` parallel.  The setup for `IPython` parallel is different than that of `mpi4py`.  Rather than have `N` process running the same code simultaneously, `IPython` parallel has `N` 'engines' in the back ground which you can issue commands to.  This toolkit can be incredibly powerful when combined with mpi4py since you can then run mpi4py code interactively on the engines.  To create and `IPython` cluster with `8` nodes run the following command in a terminal:\n",
      "\n",
      "`ipcluster start -n 8 --engines=MPIEngineSetLauncher`\n",
      "\n",
      "By default ipcluster does not use `mpi`, hence the additional engines option.  We can then connect to the cluster with the following command:"
     ]
    },
    {
     "cell_type": "code",
     "collapsed": false,
     "input": [
      "from IPython.parallel import Client\n",
      "c = Client()\n",
      "print c.ids"
     ],
     "language": "python",
     "metadata": {},
     "outputs": [
      {
       "output_type": "stream",
       "stream": "stdout",
       "text": [
        "[0, 1, 2, 3, 4, 5, 6, 7]\n"
       ]
      }
     ],
     "prompt_number": 17
    },
    {
     "cell_type": "markdown",
     "metadata": {},
     "source": [
      "`c.ids` gives a list of the engines we are connected to.  WARNING: The ids associated with `IPython` parallel are NOT the same as the ranks in `mpi4pi`.  To interact with the engines we need to take a view of the engines"
     ]
    },
    {
     "cell_type": "code",
     "collapsed": false,
     "input": [
      "v = c[:]"
     ],
     "language": "python",
     "metadata": {},
     "outputs": [],
     "prompt_number": 18
    },
    {
     "cell_type": "markdown",
     "metadata": {},
     "source": [
      "This gives a view of all the engines, allowing us to interact with them (if we wished for a view of only the first 4 nodes we can run `v = c[:4]`).  For instance:"
     ]
    },
    {
     "cell_type": "code",
     "collapsed": false,
     "input": [
      "v['a'] = 1"
     ],
     "language": "python",
     "metadata": {},
     "outputs": [],
     "prompt_number": 19
    },
    {
     "cell_type": "markdown",
     "metadata": {},
     "source": [
      "creates a variable `a` on each of the nodes holding the value 1.  We can also use `v` to execute code remotely"
     ]
    },
    {
     "cell_type": "code",
     "collapsed": false,
     "input": [
      "v.execute('import numpy as np')\n",
      "v.execute('b = np.random.rand(2)')"
     ],
     "language": "python",
     "metadata": {},
     "outputs": [
      {
       "metadata": {},
       "output_type": "pyout",
       "prompt_number": 20,
       "text": [
        "<AsyncResult: execute>"
       ]
      }
     ],
     "prompt_number": 20
    },
    {
     "cell_type": "markdown",
     "metadata": {},
     "source": [
      "This creates a randomly generated variable $b$ on each of the engines.  This variable can be accessed through `v`"
     ]
    },
    {
     "cell_type": "code",
     "collapsed": false,
     "input": [
      "v['b']"
     ],
     "language": "python",
     "metadata": {},
     "outputs": [
      {
       "metadata": {},
       "output_type": "pyout",
       "prompt_number": 21,
       "text": [
        "[array([ 0.73666347,  0.18257655]),\n",
        " array([ 0.8645708 ,  0.70935299]),\n",
        " array([ 0.23982096,  0.74804158]),\n",
        " array([ 0.92880828,  0.04449652]),\n",
        " array([ 0.03585937,  0.12249886]),\n",
        " array([ 0.13824593,  0.08684816]),\n",
        " array([ 0.42209119,  0.59351828]),\n",
        " array([ 0.68418749,  0.29450655])]"
       ]
      }
     ],
     "prompt_number": 21
    },
    {
     "cell_type": "markdown",
     "metadata": {
      "run_control": {
       "breakpoint": false
      }
     },
     "source": [
      "To make sure all the engines are in the current directory we run:"
     ]
    },
    {
     "cell_type": "code",
     "collapsed": false,
     "input": [
      "notebook_path=!pwd\n",
      "v.execute('%cd '+notebook_path[0])"
     ],
     "language": "python",
     "metadata": {
      "run_control": {
       "breakpoint": false
      }
     },
     "outputs": [
      {
       "metadata": {},
       "output_type": "pyout",
       "prompt_number": 22,
       "text": [
        "<AsyncResult: execute>"
       ]
      }
     ],
     "prompt_number": 22
    },
    {
     "cell_type": "heading",
     "level": 3,
     "metadata": {},
     "source": [
      "`autopx`"
     ]
    },
    {
     "cell_type": "markdown",
     "metadata": {},
     "source": [
      "Hands down the most useful part of `IPython` parallel is the `%autopx` magic command.  Once issued, all commands entered are run on the engines instead of the clients.  For example, I can now run `mpi4py` on the engines"
     ]
    },
    {
     "cell_type": "code",
     "collapsed": false,
     "input": [
      "%autopx"
     ],
     "language": "python",
     "metadata": {},
     "outputs": [
      {
       "output_type": "stream",
       "stream": "stdout",
       "text": [
        "%autopx enabled\n"
       ]
      }
     ],
     "prompt_number": 23
    },
    {
     "cell_type": "code",
     "collapsed": false,
     "input": [
      "from mpi4py import MPI\n",
      "comm = MPI.COMM_WORLD\n",
      "rank = comm.Get_rank()\n",
      "print rank"
     ],
     "language": "python",
     "metadata": {},
     "outputs": [
      {
       "output_type": "stream",
       "stream": "stdout",
       "text": [
        "[stdout:0] 0\n",
        "[stdout:1] 5\n",
        "[stdout:2] 3\n",
        "[stdout:3] 1\n",
        "[stdout:4] 6\n",
        "[stdout:5] 2\n",
        "[stdout:6] 7\n",
        "[stdout:7] 4\n"
       ]
      }
     ],
     "prompt_number": 24
    },
    {
     "cell_type": "markdown",
     "metadata": {},
     "source": [
      "We can now interact with our parallel economics code remotely."
     ]
    },
    {
     "cell_type": "code",
     "collapsed": false,
     "input": [
      "from numpy import *\n",
      "from primitives import primitives_CRRA\n",
      "import bellman\n",
      "\n",
      "rank = comm.Get_rank()\n",
      "\n",
      "#initialize the parameters\n",
      "Para = primitives_CRRA()\n",
      "r = 0.9995*(1/Para.beta-1)\n",
      "\n",
      "#create the grid\n",
      "agrid = hstack((linspace(Para.a_min,Para.a_min+1.,15),linspace(Para.a_min+2.,Para.a_max,15)))\n",
      "zgrid = linspace(Para.z_min,Para.z_max,10)\n",
      "Para.domain = vstack([(a,z) for a in agrid for z in zgrid])\n",
      "\n",
      "#initial value function\n",
      "def V0(a,z):\n",
      "    return Para.U(exp(z)+r*a)/(1-Para.beta)\n",
      "\n",
      "#construct the Bellman Map\n",
      "T = bellman.BellmanMap(Para,r)"
     ],
     "language": "python",
     "metadata": {},
     "outputs": [],
     "prompt_number": 25
    },
    {
     "cell_type": "code",
     "collapsed": false,
     "input": [
      "Vf,Vs = bellman.approximateValueFunction(T(V0),Para)\n",
      "for t in range(0,10):  \n",
      "    Vfnew,Vsnew = bellman.approximateValueFunction(T(Vf),Para)\n",
      "    if rank == 0:\n",
      "        print max(abs(Vs-Vsnew))\n",
      "    Vf = Vfnew\n",
      "    Vs = Vsnew"
     ],
     "language": "python",
     "metadata": {},
     "outputs": [
      {
       "output_type": "stream",
       "stream": "stdout",
       "text": [
        "[stdout:0] \n",
        "21.4696863104\n",
        "14.0421106942\n",
        "10.5408456781\n",
        "7.53581446045\n",
        "5.87085402644\n",
        "4.67845883118\n",
        "3.75852972605\n",
        "3.03921754918\n",
        "2.47192092856\n",
        "2.02123946321\n"
       ]
      }
     ],
     "prompt_number": 26
    },
    {
     "cell_type": "markdown",
     "metadata": {},
     "source": [
      "We can then pull the value function from the engines and plot it"
     ]
    },
    {
     "cell_type": "code",
     "collapsed": false,
     "input": [
      "%autopx"
     ],
     "language": "python",
     "metadata": {},
     "outputs": [
      {
       "output_type": "stream",
       "stream": "stdout",
       "text": [
        "%autopx disabled\n"
       ]
      }
     ],
     "prompt_number": 27
    },
    {
     "cell_type": "code",
     "collapsed": false,
     "input": [
      "Vf = v['Vf'][0]\n",
      "plot(linspace(0,50,1000),Vf(linspace(0,50,1000),1))"
     ],
     "language": "python",
     "metadata": {},
     "outputs": [
      {
       "metadata": {},
       "output_type": "pyout",
       "prompt_number": 28,
       "text": [
        "[<matplotlib.lines.Line2D at 0x7f12a3c69710>]"
       ]
      },
      {
       "metadata": {},
       "output_type": "display_data",
       "png": "[encoded data removed]",
       "text": [
        "<matplotlib.figure.Figure at 0x7f12a3ce2750>"
       ]
      }
     ],
     "prompt_number": 28
    },
    {
     "cell_type": "code",
     "collapsed": false,
     "input": [
      "%autopx"
     ],
     "language": "python",
     "metadata": {},
     "outputs": [
      {
       "output_type": "stream",
       "stream": "stdout",
       "text": [
        "%autopx enabled\n"
       ]
      }
     ],
     "prompt_number": 29
    },
    {
     "cell_type": "markdown",
     "metadata": {},
     "source": [
      "This can be especially useful if I want to debug a piece of parallel code.  Take the first part of `approximateValueFunction`.  I can now evaluate pieces of it and see what they're doing."
     ]
    },
    {
     "cell_type": "code",
     "collapsed": false,
     "input": [
      "#first split up domain for each process\n",
      "s = comm.Get_size()\n",
      "rank = comm.Get_rank()\n",
      "n = len(Para.domain)\n",
      "m = n//s\n",
      "r = n%s"
     ],
     "language": "python",
     "metadata": {},
     "outputs": [],
     "prompt_number": 30
    },
    {
     "cell_type": "code",
     "collapsed": false,
     "input": [
      "print \"rank\",rank,\":\", (rank*m+min(rank,r),(rank+1)*m+min(rank+1,r))\n",
      "%autopx"
     ],
     "language": "python",
     "metadata": {},
     "outputs": [
      {
       "output_type": "stream",
       "stream": "stdout",
       "text": [
        "%autopx disabled\n"
       ]
      }
     ],
     "prompt_number": 31
    },
    {
     "cell_type": "markdown",
     "metadata": {},
     "source": [
      "I now can see the rows of `Para.domain` assigned to each process."
     ]
    },
    {
     "cell_type": "heading",
     "level": 3,
     "metadata": {},
     "source": [
      "Caveats"
     ]
    },
    {
     "cell_type": "markdown",
     "metadata": {},
     "source": [
      "One important thing to keep in mind is that the engines have their own local namespace.  You need to make sure that the appropriate libraries are imported in the engines and that they work in the right directory. Finally, while the code is being run, the engines can't print output.  All printed output is delayed until the command is done.  "
     ]
    },
    {
     "cell_type": "heading",
     "level": 2,
     "metadata": {},
     "source": [
      "Multiple Hosts"
     ]
    },
    {
     "cell_type": "markdown",
     "metadata": {},
     "source": [
      "Thus far, everything we have done has assumed that all of the processes will be run on the same machine.  Fortunately, to run the code one multiple machines requires only a modification to the mpiexec command.  The precise nature differs across versions of mpi.  We will be describing the procedure for `mpich`.  The steps for `openmpi` will be similar.  Suppose we had 4 machines with ipaddresses given by host1,host2,host3, and host4, and each of these machines had 4 processors on them.  If we want to run python code parallely across these machines we would create a file `hostfile` with the following lines\n",
      "\n",
      "`\n",
      "host1 : 4\n",
      "host2 : 4\n",
      "host3 : 4\n",
      "host4 : 4\n",
      "`\n",
      "\n",
      "To execute the python code in Main.py we run the command\n",
      "\n",
      "`\n",
      "mpiexec -f hostfile python Main.py\n",
      "`"
     ]
    },
    {
     "cell_type": "heading",
     "level": 2,
     "metadata": {
      "collapsed": false
     },
     "source": [
      "Appendix: .py files used "
     ]
    },
    {
     "cell_type": "code",
     "collapsed": false,
     "input": [
      "%%writefile mpi_helloworld.py\n",
      "\n",
      "from mpi4py import MPI\n",
      "\n",
      "comm = MPI.COMM_WORLD #retreive the communicator module\n",
      "rank = comm.Get_rank() #get the rank of the process\n",
      "size = comm.Get_size() #get the number of processes\n",
      "\n",
      "print \"Hello world from process \"+str(rank)+\" of \" + str(size)\n"
     ],
     "language": "python",
     "metadata": {
      "run_control": {
       "breakpoint": false
      }
     },
     "outputs": [
      {
       "output_type": "stream",
       "stream": "stdout",
       "text": [
        "Overwriting mpi_helloworld.py\n"
       ]
      }
     ],
     "prompt_number": 32
    },
    {
     "cell_type": "code",
     "collapsed": false,
     "input": [
      "%%writefile MPI_montecarlo.py\n",
      "\n",
      "import numpy as np\n",
      "from mpi4py import MPI\n",
      "\n",
      "N = 10000\n",
      "\n",
      "comm = MPI.COMM_WORLD\n",
      "rank = comm.Get_rank()\n",
      "\n",
      "x = np.random.randn(N)\n",
      "my_result = np.cos(x).mean() #my average\n",
      "\n",
      "#now average accross all processes\n",
      "results = comm.gather(my_result)\n",
      "if rank == 0:\n",
      "    print np.mean(results)\n"
     ],
     "language": "python",
     "metadata": {
      "run_control": {
       "breakpoint": false
      }
     },
     "outputs": [
      {
       "output_type": "stream",
       "stream": "stdout",
       "text": [
        "Overwriting MPI_montecarlo.py\n"
       ]
      }
     ],
     "prompt_number": 33
    },
    {
     "cell_type": "code",
     "collapsed": false,
     "input": [
      "%%writefile MPI_montecarlo_allgather.py\n",
      "\n",
      "import numpy as np\n",
      "from mpi4py import MPI\n",
      "\n",
      "N = 10000\n",
      "\n",
      "comm = MPI.COMM_WORLD\n",
      "rank = comm.Get_rank()\n",
      "\n",
      "x = np.random.randn(N)\n",
      "my_result = np.cos(x).mean() #my average\n",
      "\n",
      "#now gather from all processes\n",
      "results = comm.gather(my_result)\n",
      "\n",
      "print \"Gather result for process \" + str(rank) +\":\",results\n",
      "\n",
      "#now allgather from all processes\n",
      "results = comm.allgather(my_result)\n",
      "\n",
      "print \"Allgather resuts for process \" + str(rank) + \":\",results\n"
     ],
     "language": "python",
     "metadata": {
      "run_control": {
       "breakpoint": false
      }
     },
     "outputs": [
      {
       "output_type": "stream",
       "stream": "stdout",
       "text": [
        "Overwriting MPI_montecarlo_allgather.py\n"
       ]
      }
     ],
     "prompt_number": 34
    },
    {
     "cell_type": "code",
     "collapsed": false,
     "input": [
      "%%writefile MPI_Allgather.py\n",
      "\n",
      "import numpy as np\n",
      "from mpi4py import MPI\n",
      "\n",
      "comm = MPI.COMM_WORLD\n",
      "rank = comm.Get_rank()\n",
      "size = comm.Get_size()\n",
      "\n",
      "# create a 2x2 array filled with the rank of the process\n",
      "x = np.ones((2,2)) * rank \n",
      "\n",
      "# create an empty array to store the gathered result\n",
      "X = np.empty((2*size,2))\n",
      "\n",
      "#use numpy Allgather\n",
      "                #send buffer   #recv buffer\n",
      "comm.Allgather([x, MPI.DOUBLE],[X, MPI.DOUBLE])\n",
      "\n",
      "if rank ==0:\n",
      "    print X\n"
     ],
     "language": "python",
     "metadata": {
      "run_control": {
       "breakpoint": false
      }
     },
     "outputs": [
      {
       "output_type": "stream",
       "stream": "stdout",
       "text": [
        "Overwriting MPI_Allgather.py\n"
       ]
      }
     ],
     "prompt_number": 35
    },
    {
     "cell_type": "code",
     "collapsed": false,
     "input": [
      "%%writefile primitives.py\n",
      "\n",
      "\"\"\"\n",
      "Created on Tue Jun 25 13:29:54 2013\n",
      "\n",
      "@author: dgevans\n",
      "\"\"\"\n",
      "from numpy import *\n",
      "\n",
      "class primitives(object):\n",
      "    '''\n",
      "    Class that holds the basic parameters of the problem\n",
      "    '''\n",
      "    \n",
      "    beta = 0.95#discount factor\n",
      "    \n",
      "    rho = 0.9#persistence of idiosyncratic productivity\n",
      "    \n",
      "    sigma_e = 0.1#standard deviation of idiosyncratic productivity\n",
      "    \n",
      "    a_min = 0.0 #minimum assets\n",
      "    \n",
      "    a_max = 60.0 #maximum assets\n",
      "    \n",
      "    z_min = -2. #minimum productivity\n",
      "    \n",
      "    z_max = 2. #maximum productivity\n",
      "    \n",
      "    \n",
      "    \n",
      "class primitives_CRRA(primitives):\n",
      "    '''\n",
      "    Extension of primitives class holding the preference structure\n",
      "    '''\n",
      "    \n",
      "    sigma = 2.\n",
      "    \n",
      "    def U(self,c):\n",
      "        \"\"\"\n",
      "        CRRA utility function\n",
      "        \"\"\"\n",
      "        sigma = self.sigma\n",
      "        if sigma == 1.:\n",
      "            return log(c)\n",
      "        else:\n",
      "            return (c)**(1-sigma)/(1-sigma)\n",
      "            \n",
      "    def Uc(self,c):\n",
      "        \"\"\"\n",
      "        Derivative of the CRRA utility function\n",
      "        \"\"\"\n",
      "        sigma = self.sigma\n",
      "        return c**(-sigma)\n",
      "        \n",
      "        "
     ],
     "language": "python",
     "metadata": {
      "run_control": {
       "breakpoint": false
      }
     },
     "outputs": [
      {
       "output_type": "stream",
       "stream": "stdout",
       "text": [
        "Overwriting primitives.py\n"
       ]
      }
     ],
     "prompt_number": 36
    },
    {
     "cell_type": "code",
     "collapsed": false,
     "input": [
      "%%writefile bellman.py\n",
      "\n",
      "\"\"\"\n",
      "Created on Tue Jun 25 13:40:30 2013\n",
      "Holds all of the code for the bellman equation\n",
      "@author: dgevans\n",
      "\"\"\"\n",
      "\n",
      "from scipy.optimize import minimize_scalar\n",
      "\n",
      "from numpy import * \n",
      "from mpi4py import MPI\n",
      "from scipy.interpolate import SmoothBivariateSpline\n",
      "from numpy.polynomial.hermite import hermgauss\n",
      "\n",
      "#compute nodes for gaussian quadrature.\n",
      "zhatvec,z_weights = hermgauss(10)\n",
      "z_weights /= sum(z_weights)\n",
      "\n",
      "\n",
      "def approximateValueFunction(TV,Para):\n",
      "    '''\n",
      "    Approximates the value function over the grid defined by Para.domain.  Uses\n",
      "    mpi. Returns both an interpolated value function and the value of TV at each point\n",
      "    in the domain.\n",
      "    '''\n",
      "    comm = MPI.COMM_WORLD\n",
      "    #first split up domain for each process\n",
      "    s = comm.Get_size()\n",
      "    rank = comm.Get_rank()\n",
      "    n = len(Para.domain)\n",
      "    m = n//s\n",
      "    r = n%s\n",
      "    #let each process take a slice of the domain\n",
      "    mydomain = Para.domain[rank*m+min(rank,r):\n",
      "                           (rank+1)*m+min(rank+1,r)]\n",
      "\n",
      "    #get the value at each point in my domain\n",
      "    myV = hstack(map(TV,mydomain))\n",
      "    #gather the values for each process\n",
      "    Vs = comm.gather(myV)\n",
      "    \n",
      "    if rank == 0:\n",
      "        #fit \n",
      "        Vs = hstack(Vs).flatten()\n",
      "        Vf = SmoothBivariateSpline(Para.domain[:,0],Para.domain[:,1],Vs)\n",
      "    else:\n",
      "        Vf = None\n",
      "    return comm.bcast(Vf),comm.bcast(Vs)\n",
      "    \n",
      "    \n",
      "    \n",
      "    \n",
      "\n",
      "class BellmanMap(object):\n",
      "    '''\n",
      "    Bellman map object.  Once constructed will take a value function and return\n",
      "    a new value function\n",
      "    '''\n",
      "    \n",
      "    def __init__(self,Para,r):\n",
      "        '''\n",
      "        Initializes the Bellman Map function.  Need parameters and r\n",
      "        '''\n",
      "        self.Para = Para\n",
      "        self.r = r\n",
      "        self.w = 1.\n",
      "        \n",
      "    def __call__(self,Vf):\n",
      "        '''\n",
      "        Given a current value function return new value function\n",
      "        '''\n",
      "        self.Vf = Vf\n",
      "        \n",
      "        return lambda x: self.maximizeObjective(x[0],x[1])[0]\n",
      "        \n",
      "        \n",
      "    def maximizeObjective(self,a,z):\n",
      "        '''\n",
      "        Maximize the objective function Vf given the states a and productivity z.\n",
      "        Note the state for this problem are assets and previous periods productivity\n",
      "        return tuple (V,c_policy,a_policy)\n",
      "        '''\n",
      "        \n",
      "        #total wealth for agent is easy\n",
      "        W = (1+self.r)*a + exp(z)*self.w\n",
      "        beta = self.Para.beta\n",
      "        Vf = self.Vf\n",
      "        \n",
      "        \n",
      "        def obj_f(aprime):\n",
      "            c = W-aprime\n",
      "            return -(self.Para.U(c) + beta*self.E(lambda zprime:Vf(aprime,zprime).flatten(),z))\n",
      "        \n",
      "        a_min = self.Para.a_min\n",
      "        a_max = min(self.Para.a_max,W-0.00001)\n",
      "        \n",
      "        res = minimize_scalar(obj_f,bounds=(a_min,a_max),method='bounded')\n",
      "        \n",
      "        return -res.fun,W-res.x,res.x\n",
      "         \n",
      "    def E(self,f,z_):\n",
      "        '''\n",
      "        Compute the exepected value of a function f of zprime conditional on z\n",
      "        '''\n",
      "        #Pz_min,Pz_max,z_pdf = self.get_z_distribution(z_)\n",
      "        z_min = array([self.Para.z_min])\n",
      "        z_max = array([self.Para.z_max])\n",
      "        #Compute the nodes for Gaussian quadrature\n",
      "        zvec = self.Para.rho * z_ + self.Para.sigma_e*zhatvec*sqrt(2)\n",
      "        \n",
      "        #lower bound for z\n",
      "        zvec[zvec<z_min] = z_min \n",
      "        #upper bound for z\n",
      "        zvec[zvec>z_max] = z_max\n",
      "        return z_weights.dot(f(zvec))"
     ],
     "language": "python",
     "metadata": {
      "run_control": {
       "breakpoint": false
      }
     },
     "outputs": [
      {
       "output_type": "stream",
       "stream": "stdout",
       "text": [
        "Overwriting bellman.py\n"
       ]
      }
     ],
     "prompt_number": 37
    },
    {
     "cell_type": "code",
     "collapsed": false,
     "input": [
      "%%writefile Main.py\n",
      "\n",
      "\"\"\"\n",
      "Created on Tue Jun 25 16:50:32 2013\n",
      "\n",
      "@author: dgevans\n",
      "\"\"\"\n",
      "\n",
      "from numpy import *\n",
      "from primitives import primitives_CRRA\n",
      "import bellman\n",
      "from mpi4py import MPI\n",
      "\n",
      "rank = MPI.COMM_WORLD.Get_rank()\n",
      "\n",
      "#initialize the parameters\n",
      "Para = primitives_CRRA()\n",
      "r = 0.9995*(1/Para.beta-1)\n",
      "\n",
      "#create the grid\n",
      "agrid = hstack((linspace(Para.a_min,Para.a_min+1.,15),linspace(Para.a_min+2.,Para.a_max,15)))\n",
      "zgrid = linspace(Para.z_min,Para.z_max,10)\n",
      "Para.domain = vstack([(a,z) for a in agrid for z in zgrid])\n",
      "\n",
      "#initial value function\n",
      "def V0(a,z):\n",
      "    return Para.U(exp(z)+r*a)/(1-Para.beta)\n",
      "\n",
      "#construct the Bellman Map\n",
      "T = bellman.BellmanMap(Para,r)\n",
      "\n",
      "#iterate on the Bellman Map until convergence\n",
      "Vf,Vs = bellman.approximateValueFunction(T(V0),Para)\n",
      "while diff > 1e-6:  \n",
      "    Vfnew,Vsnew = bellman.approximateValueFunction(T(Vf),Para)\n",
      "    diff =  max(abs(Vs-Vsnew))\n",
      "    if rank == 0:\n",
      "        print diff\n",
      "    Vf = Vfnew\n",
      "    Vs = Vsnew\n"
     ],
     "language": "python",
     "metadata": {
      "run_control": {
       "breakpoint": false
      }
     },
     "outputs": [
      {
       "output_type": "stream",
       "stream": "stdout",
       "text": [
        "Overwriting Main.py\n"
       ]
      }
     ],
     "prompt_number": 38
    }
   ],
   "metadata": {}
  }
 ]
}