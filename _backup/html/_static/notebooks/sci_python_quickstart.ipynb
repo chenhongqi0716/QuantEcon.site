{
 "metadata": {
  "name": "",
  "signature": "sha256:9201561df1228fd83369f145307a87161450eaa0151cf22f30116be0f6c37583"
 },
 "nbformat": 3,
 "nbformat_minor": 0,
 "worksheets": [
  {
   "cells": [
    {
     "cell_type": "heading",
     "level": 1,
     "metadata": {},
     "source": [
      "Scientific Python Quickstart"
     ]
    },
    {
     "cell_type": "heading",
     "level": 4,
     "metadata": {},
     "source": [
      "John Stachurski"
     ]
    },
    {
     "cell_type": "heading",
     "level": 4,
     "metadata": {},
     "source": [
      "Research School of Economics, ANU"
     ]
    },
    {
     "cell_type": "markdown",
     "metadata": {},
     "source": [
      "This is a fast-paced, hands-on introduction to scientific computing with Python.  The main focus will be on introducing Python's four most important scientific libraries: NumPy, Scipy, Pandas and Matplotlib.\n",
      "\n",
      "If you don't know how to use this notebook you need to first work through [this page](http://quant-econ.net/py/getting_started.html).\n",
      "\n",
      "A slower, more detailed and more systematic treatment of Python for scientific applications can be found at [quant-econ.net](http://quant-econ.net/py/index.html).  But this notebook is a good place to start for those who like to learn by doing."
     ]
    },
    {
     "cell_type": "heading",
     "level": 2,
     "metadata": {},
     "source": [
      "Basic NumPy"
     ]
    },
    {
     "cell_type": "markdown",
     "metadata": {},
     "source": [
      "Perhaps the single most important scientific library for Python is NumPy.  NumPy provides foundational data structures and routines on which many other libraries rely.\n",
      "\n",
      "NumPy defines a basic data type called an array (actually a numpy.ndarray)"
     ]
    },
    {
     "cell_type": "code",
     "collapsed": false,
     "input": [
      "import numpy as np  # Import library and give it alias np\n",
      "a = np.zeros(3)     # Create an array of zeros\n",
      "a                   # Print a"
     ],
     "language": "python",
     "metadata": {},
     "outputs": [
      {
       "metadata": {},
       "output_type": "pyout",
       "prompt_number": 1,
       "text": [
        "array([ 0.,  0.,  0.])"
       ]
      }
     ],
     "prompt_number": 1
    },
    {
     "cell_type": "code",
     "collapsed": false,
     "input": [
      "type(a)"
     ],
     "language": "python",
     "metadata": {},
     "outputs": [
      {
       "metadata": {},
       "output_type": "pyout",
       "prompt_number": 2,
       "text": [
        "numpy.ndarray"
       ]
      }
     ],
     "prompt_number": 2
    },
    {
     "cell_type": "markdown",
     "metadata": {},
     "source": [
      "Note that array data *must be homogeneous*\n",
      "\n",
      "The most important data types are:\n",
      "\n",
      "*    float64: 64 bit floating point number\n",
      "*    float32: 32 bit floating point number\n",
      "*    int64: 64 bit integer\n",
      "*    int32: 32 bit integer\n",
      "*    bool:  8 bit True or False\n",
      "\n",
      "There are also dtypes to represent complex numbers, unsigned integers, etc\n",
      "\n",
      "On most machines, the default dtype for arrays is ``float64`` \n",
      "\n",
      "\n"
     ]
    },
    {
     "cell_type": "code",
     "collapsed": false,
     "input": [
      "a = np.zeros(3)\n",
      "type(a[1])"
     ],
     "language": "python",
     "metadata": {},
     "outputs": [
      {
       "metadata": {},
       "output_type": "pyout",
       "prompt_number": 3,
       "text": [
        "numpy.float64"
       ]
      }
     ],
     "prompt_number": 3
    },
    {
     "cell_type": "markdown",
     "metadata": {},
     "source": [
      "When we create an array such as \n"
     ]
    },
    {
     "cell_type": "code",
     "collapsed": false,
     "input": [
      "z = np.zeros(10)"
     ],
     "language": "python",
     "metadata": {},
     "outputs": [],
     "prompt_number": 4
    },
    {
     "cell_type": "markdown",
     "metadata": {},
     "source": [
      "``z`` is a \"flat\" array with no dimension--- neither row nor column vecto"
     ]
    },
    {
     "cell_type": "code",
     "collapsed": false,
     "input": [
      " z.shape"
     ],
     "language": "python",
     "metadata": {},
     "outputs": [
      {
       "metadata": {},
       "output_type": "pyout",
       "prompt_number": 5,
       "text": [
        "(10,)"
       ]
      }
     ],
     "prompt_number": 5
    },
    {
     "cell_type": "markdown",
     "metadata": {},
     "source": [
      "Here the shape tuple has only one element, which is the length of the array (tuples with one element end with a comma)\n",
      "\n",
      "To give it dimension, we can change the ``shape`` attribute \n",
      "\n",
      "For example, let's make it a column vector"
     ]
    },
    {
     "cell_type": "code",
     "collapsed": false,
     "input": [
      "z.shape = (10, 1)"
     ],
     "language": "python",
     "metadata": {},
     "outputs": [],
     "prompt_number": 6
    },
    {
     "cell_type": "code",
     "collapsed": false,
     "input": [
      "z"
     ],
     "language": "python",
     "metadata": {},
     "outputs": [
      {
       "metadata": {},
       "output_type": "pyout",
       "prompt_number": 7,
       "text": [
        "array([[ 0.],\n",
        "       [ 0.],\n",
        "       [ 0.],\n",
        "       [ 0.],\n",
        "       [ 0.],\n",
        "       [ 0.],\n",
        "       [ 0.],\n",
        "       [ 0.],\n",
        "       [ 0.],\n",
        "       [ 0.]])"
       ]
      }
     ],
     "prompt_number": 7
    },
    {
     "cell_type": "code",
     "collapsed": false,
     "input": [
      "z = np.zeros(4)\n",
      "z.shape = (2, 2)\n",
      "z"
     ],
     "language": "python",
     "metadata": {},
     "outputs": [
      {
       "metadata": {},
       "output_type": "pyout",
       "prompt_number": 8,
       "text": [
        "array([[ 0.,  0.],\n",
        "       [ 0.,  0.]])"
       ]
      }
     ],
     "prompt_number": 8
    },
    {
     "cell_type": "heading",
     "level": 3,
     "metadata": {},
     "source": [
      "Creating arrays"
     ]
    },
    {
     "cell_type": "markdown",
     "metadata": {},
     "source": [
      "Creating empty arrays --- initializing memory:"
     ]
    },
    {
     "cell_type": "code",
     "collapsed": false,
     "input": [
      "z = np.empty(3)\n",
      "z"
     ],
     "language": "python",
     "metadata": {},
     "outputs": [
      {
       "metadata": {},
       "output_type": "pyout",
       "prompt_number": 9,
       "text": [
        "array([ 0.,  0.,  0.])"
       ]
      }
     ],
     "prompt_number": 9
    },
    {
     "cell_type": "markdown",
     "metadata": {},
     "source": [
      "These are just garbage numbers --- whatever was in those memory slots\n",
      "\n",
      "Here's how to make a regular gird sequence"
     ]
    },
    {
     "cell_type": "code",
     "collapsed": false,
     "input": [
      "z = np.linspace(2, 4, 5)  # From 2 to 4, with 5 elements\n",
      "z"
     ],
     "language": "python",
     "metadata": {},
     "outputs": [
      {
       "metadata": {},
       "output_type": "pyout",
       "prompt_number": 10,
       "text": [
        "array([ 2. ,  2.5,  3. ,  3.5,  4. ])"
       ]
      }
     ],
     "prompt_number": 10
    },
    {
     "cell_type": "markdown",
     "metadata": {},
     "source": [
      "Creating an array of ones"
     ]
    },
    {
     "cell_type": "code",
     "collapsed": false,
     "input": [
      "z = np.ones(3)\n",
      "z"
     ],
     "language": "python",
     "metadata": {},
     "outputs": [
      {
       "metadata": {},
       "output_type": "pyout",
       "prompt_number": 11,
       "text": [
        "array([ 1.,  1.,  1.])"
       ]
      }
     ],
     "prompt_number": 11
    },
    {
     "cell_type": "code",
     "collapsed": false,
     "input": [
      "z = np.identity(2)\n",
      "z"
     ],
     "language": "python",
     "metadata": {},
     "outputs": [
      {
       "metadata": {},
       "output_type": "pyout",
       "prompt_number": 12,
       "text": [
        "array([[ 1.,  0.],\n",
        "       [ 0.,  1.]])"
       ]
      }
     ],
     "prompt_number": 12
    },
    {
     "cell_type": "markdown",
     "metadata": {},
     "source": [
      "Arrays can be made from Python lists or tuples"
     ]
    },
    {
     "cell_type": "code",
     "collapsed": false,
     "input": [
      "z = np.array([10, 20]) \n",
      "z"
     ],
     "language": "python",
     "metadata": {},
     "outputs": [
      {
       "metadata": {},
       "output_type": "pyout",
       "prompt_number": 13,
       "text": [
        "array([10, 20])"
       ]
      }
     ],
     "prompt_number": 13
    },
    {
     "cell_type": "code",
     "collapsed": false,
     "input": [
      "z = np.array((10, 20), dtype=float) \n",
      "z"
     ],
     "language": "python",
     "metadata": {},
     "outputs": [
      {
       "metadata": {},
       "output_type": "pyout",
       "prompt_number": 14,
       "text": [
        "array([ 10.,  20.])"
       ]
      }
     ],
     "prompt_number": 14
    },
    {
     "cell_type": "code",
     "collapsed": false,
     "input": [
      "z = np.array([[1, 2], [3, 4]])         # 2D array from a list of lists\n",
      "z"
     ],
     "language": "python",
     "metadata": {},
     "outputs": [
      {
       "metadata": {},
       "output_type": "pyout",
       "prompt_number": 15,
       "text": [
        "array([[1, 2],\n",
        "       [3, 4]])"
       ]
      }
     ],
     "prompt_number": 15
    },
    {
     "cell_type": "heading",
     "level": 3,
     "metadata": {},
     "source": [
      "Array indexing"
     ]
    },
    {
     "cell_type": "code",
     "collapsed": false,
     "input": [
      "z = np.linspace(1, 2, 5)\n",
      "z"
     ],
     "language": "python",
     "metadata": {},
     "outputs": [
      {
       "metadata": {},
       "output_type": "pyout",
       "prompt_number": 16,
       "text": [
        "array([ 1.  ,  1.25,  1.5 ,  1.75,  2.  ])"
       ]
      }
     ],
     "prompt_number": 16
    },
    {
     "cell_type": "code",
     "collapsed": false,
     "input": [
      "z[0]  # First element --- Python sequences are zero based, like C, Java, etc."
     ],
     "language": "python",
     "metadata": {},
     "outputs": [
      {
       "metadata": {},
       "output_type": "pyout",
       "prompt_number": 17,
       "text": [
        "1.0"
       ]
      }
     ],
     "prompt_number": 17
    },
    {
     "cell_type": "code",
     "collapsed": false,
     "input": [
      "z[-1]  # Special syntax for last element"
     ],
     "language": "python",
     "metadata": {},
     "outputs": [
      {
       "metadata": {},
       "output_type": "pyout",
       "prompt_number": 18,
       "text": [
        "2.0"
       ]
      }
     ],
     "prompt_number": 18
    },
    {
     "cell_type": "code",
     "collapsed": false,
     "input": [
      "z[0:2]  # Meaning: Two elements, starting from element 0"
     ],
     "language": "python",
     "metadata": {},
     "outputs": [
      {
       "metadata": {},
       "output_type": "pyout",
       "prompt_number": 19,
       "text": [
        "array([ 1.  ,  1.25])"
       ]
      }
     ],
     "prompt_number": 19
    },
    {
     "cell_type": "code",
     "collapsed": false,
     "input": [
      "z = np.array([[1, 2], [3, 4]])\n",
      "z"
     ],
     "language": "python",
     "metadata": {},
     "outputs": [
      {
       "metadata": {},
       "output_type": "pyout",
       "prompt_number": 20,
       "text": [
        "array([[1, 2],\n",
        "       [3, 4]])"
       ]
      }
     ],
     "prompt_number": 20
    },
    {
     "cell_type": "code",
     "collapsed": false,
     "input": [
      "z[0, 0]"
     ],
     "language": "python",
     "metadata": {},
     "outputs": [
      {
       "metadata": {},
       "output_type": "pyout",
       "prompt_number": 21,
       "text": [
        "1"
       ]
      }
     ],
     "prompt_number": 21
    },
    {
     "cell_type": "code",
     "collapsed": false,
     "input": [
      "z[0,:]  # First row"
     ],
     "language": "python",
     "metadata": {},
     "outputs": [
      {
       "metadata": {},
       "output_type": "pyout",
       "prompt_number": 22,
       "text": [
        "array([1, 2])"
       ]
      }
     ],
     "prompt_number": 22
    },
    {
     "cell_type": "code",
     "collapsed": false,
     "input": [
      "z[:,0]  # First column"
     ],
     "language": "python",
     "metadata": {},
     "outputs": [
      {
       "metadata": {},
       "output_type": "pyout",
       "prompt_number": 23,
       "text": [
        "array([1, 3])"
       ]
      }
     ],
     "prompt_number": 23
    },
    {
     "cell_type": "code",
     "collapsed": false,
     "input": [
      "z = np.linspace(2, 4, 5)\n",
      "z"
     ],
     "language": "python",
     "metadata": {},
     "outputs": [
      {
       "metadata": {},
       "output_type": "pyout",
       "prompt_number": 24,
       "text": [
        "array([ 2. ,  2.5,  3. ,  3.5,  4. ])"
       ]
      }
     ],
     "prompt_number": 24
    },
    {
     "cell_type": "code",
     "collapsed": false,
     "input": [
      "d = np.array([0, 1, 1, 0, 0], dtype=bool)\n",
      "d"
     ],
     "language": "python",
     "metadata": {},
     "outputs": [
      {
       "metadata": {},
       "output_type": "pyout",
       "prompt_number": 25,
       "text": [
        "array([False,  True,  True, False, False], dtype=bool)"
       ]
      }
     ],
     "prompt_number": 25
    },
    {
     "cell_type": "code",
     "collapsed": false,
     "input": [
      "z[d]"
     ],
     "language": "python",
     "metadata": {},
     "outputs": [
      {
       "metadata": {},
       "output_type": "pyout",
       "prompt_number": 26,
       "text": [
        "array([ 2.5,  3. ])"
       ]
      }
     ],
     "prompt_number": 26
    },
    {
     "cell_type": "heading",
     "level": 3,
     "metadata": {},
     "source": [
      "Array methods"
     ]
    },
    {
     "cell_type": "code",
     "collapsed": false,
     "input": [
      "A = np.array((4, 3, 2, 1))\n",
      "A"
     ],
     "language": "python",
     "metadata": {},
     "outputs": [
      {
       "metadata": {},
       "output_type": "pyout",
       "prompt_number": 27,
       "text": [
        "array([4, 3, 2, 1])"
       ]
      }
     ],
     "prompt_number": 27
    },
    {
     "cell_type": "code",
     "collapsed": false,
     "input": [
      "A.sort()"
     ],
     "language": "python",
     "metadata": {},
     "outputs": [],
     "prompt_number": 28
    },
    {
     "cell_type": "code",
     "collapsed": false,
     "input": [
      "A"
     ],
     "language": "python",
     "metadata": {},
     "outputs": [
      {
       "metadata": {},
       "output_type": "pyout",
       "prompt_number": 29,
       "text": [
        "array([1, 2, 3, 4])"
       ]
      }
     ],
     "prompt_number": 29
    },
    {
     "cell_type": "code",
     "collapsed": false,
     "input": [
      "A.mean()"
     ],
     "language": "python",
     "metadata": {},
     "outputs": [
      {
       "metadata": {},
       "output_type": "pyout",
       "prompt_number": 30,
       "text": [
        "2.5"
       ]
      }
     ],
     "prompt_number": 30
    },
    {
     "cell_type": "code",
     "collapsed": false,
     "input": [
      "A.sum()"
     ],
     "language": "python",
     "metadata": {},
     "outputs": [
      {
       "metadata": {},
       "output_type": "pyout",
       "prompt_number": 31,
       "text": [
        "10"
       ]
      }
     ],
     "prompt_number": 31
    },
    {
     "cell_type": "code",
     "collapsed": false,
     "input": [
      "A.max()"
     ],
     "language": "python",
     "metadata": {},
     "outputs": [
      {
       "metadata": {},
       "output_type": "pyout",
       "prompt_number": 32,
       "text": [
        "4"
       ]
      }
     ],
     "prompt_number": 32
    },
    {
     "cell_type": "code",
     "collapsed": false,
     "input": [
      "A.cumsum()"
     ],
     "language": "python",
     "metadata": {},
     "outputs": [
      {
       "metadata": {},
       "output_type": "pyout",
       "prompt_number": 33,
       "text": [
        "array([ 1,  3,  6, 10])"
       ]
      }
     ],
     "prompt_number": 33
    },
    {
     "cell_type": "code",
     "collapsed": false,
     "input": [
      "A.var()"
     ],
     "language": "python",
     "metadata": {},
     "outputs": [
      {
       "metadata": {},
       "output_type": "pyout",
       "prompt_number": 34,
       "text": [
        "1.25"
       ]
      }
     ],
     "prompt_number": 34
    },
    {
     "cell_type": "code",
     "collapsed": false,
     "input": [
      "A.shape = (2, 2)\n",
      "A"
     ],
     "language": "python",
     "metadata": {},
     "outputs": [
      {
       "metadata": {},
       "output_type": "pyout",
       "prompt_number": 35,
       "text": [
        "array([[1, 2],\n",
        "       [3, 4]])"
       ]
      }
     ],
     "prompt_number": 35
    },
    {
     "cell_type": "code",
     "collapsed": false,
     "input": [
      "A.T  # Transpose, equivalent to A.transpose()"
     ],
     "language": "python",
     "metadata": {},
     "outputs": [
      {
       "metadata": {},
       "output_type": "pyout",
       "prompt_number": 36,
       "text": [
        "array([[1, 3],\n",
        "       [2, 4]])"
       ]
      }
     ],
     "prompt_number": 36
    },
    {
     "cell_type": "heading",
     "level": 3,
     "metadata": {},
     "source": [
      "Operations on arrays"
     ]
    },
    {
     "cell_type": "markdown",
     "metadata": {},
     "source": [
      "Standard arithmetic operations on arrays act elementwise"
     ]
    },
    {
     "cell_type": "code",
     "collapsed": false,
     "input": [
      "a = np.array([1, 2, 3, 4])\n",
      "b = np.array([5, 6, 7, 8])"
     ],
     "language": "python",
     "metadata": {},
     "outputs": [],
     "prompt_number": 37
    },
    {
     "cell_type": "code",
     "collapsed": false,
     "input": [
      "a + b"
     ],
     "language": "python",
     "metadata": {},
     "outputs": [
      {
       "metadata": {},
       "output_type": "pyout",
       "prompt_number": 38,
       "text": [
        "array([ 6,  8, 10, 12])"
       ]
      }
     ],
     "prompt_number": 38
    },
    {
     "cell_type": "code",
     "collapsed": false,
     "input": [
      "a - b"
     ],
     "language": "python",
     "metadata": {},
     "outputs": [
      {
       "metadata": {},
       "output_type": "pyout",
       "prompt_number": 39,
       "text": [
        "array([-4, -4, -4, -4])"
       ]
      }
     ],
     "prompt_number": 39
    },
    {
     "cell_type": "code",
     "collapsed": false,
     "input": [
      "a + 10"
     ],
     "language": "python",
     "metadata": {},
     "outputs": [
      {
       "metadata": {},
       "output_type": "pyout",
       "prompt_number": 40,
       "text": [
        "array([11, 12, 13, 14])"
       ]
      }
     ],
     "prompt_number": 40
    },
    {
     "cell_type": "code",
     "collapsed": false,
     "input": [
      "a.shape = 2, 2\n",
      "b.shape = 2, 2"
     ],
     "language": "python",
     "metadata": {},
     "outputs": [],
     "prompt_number": 41
    },
    {
     "cell_type": "code",
     "collapsed": false,
     "input": [
      "a"
     ],
     "language": "python",
     "metadata": {},
     "outputs": [
      {
       "metadata": {},
       "output_type": "pyout",
       "prompt_number": 42,
       "text": [
        "array([[1, 2],\n",
        "       [3, 4]])"
       ]
      }
     ],
     "prompt_number": 42
    },
    {
     "cell_type": "code",
     "collapsed": false,
     "input": [
      "b"
     ],
     "language": "python",
     "metadata": {},
     "outputs": [
      {
       "metadata": {},
       "output_type": "pyout",
       "prompt_number": 43,
       "text": [
        "array([[5, 6],\n",
        "       [7, 8]])"
       ]
      }
     ],
     "prompt_number": 43
    },
    {
     "cell_type": "code",
     "collapsed": false,
     "input": [
      "a * b # Pointwise multiplication!!"
     ],
     "language": "python",
     "metadata": {},
     "outputs": [
      {
       "metadata": {},
       "output_type": "pyout",
       "prompt_number": 44,
       "text": [
        "array([[ 5, 12],\n",
        "       [21, 32]])"
       ]
      }
     ],
     "prompt_number": 44
    },
    {
     "cell_type": "code",
     "collapsed": false,
     "input": [
      "np.dot(a, b) # Matrix multiplication"
     ],
     "language": "python",
     "metadata": {},
     "outputs": [
      {
       "metadata": {},
       "output_type": "pyout",
       "prompt_number": 45,
       "text": [
        "array([[19, 22],\n",
        "       [43, 50]])"
       ]
      }
     ],
     "prompt_number": 45
    },
    {
     "cell_type": "markdown",
     "metadata": {},
     "source": [
      "Note that in this is slated to change to ``a @ b`` in future versions of NumPy"
     ]
    },
    {
     "cell_type": "heading",
     "level": 3,
     "metadata": {},
     "source": [
      "Comparisons"
     ]
    },
    {
     "cell_type": "code",
     "collapsed": false,
     "input": [
      "z = np.array([2, 3])\n",
      "y = np.array([2, 3])\n",
      "z == y"
     ],
     "language": "python",
     "metadata": {},
     "outputs": [
      {
       "metadata": {},
       "output_type": "pyout",
       "prompt_number": 46,
       "text": [
        "array([ True,  True], dtype=bool)"
       ]
      }
     ],
     "prompt_number": 46
    },
    {
     "cell_type": "code",
     "collapsed": false,
     "input": [
      "y[0] = 3\n",
      "z == y"
     ],
     "language": "python",
     "metadata": {},
     "outputs": [
      {
       "metadata": {},
       "output_type": "pyout",
       "prompt_number": 47,
       "text": [
        "array([False,  True], dtype=bool)"
       ]
      }
     ],
     "prompt_number": 47
    },
    {
     "cell_type": "code",
     "collapsed": false,
     "input": [
      "z = np.linspace(0, 10, 5)\n",
      "z"
     ],
     "language": "python",
     "metadata": {},
     "outputs": [
      {
       "metadata": {},
       "output_type": "pyout",
       "prompt_number": 48,
       "text": [
        "array([  0. ,   2.5,   5. ,   7.5,  10. ])"
       ]
      }
     ],
     "prompt_number": 48
    },
    {
     "cell_type": "code",
     "collapsed": false,
     "input": [
      "z > 3"
     ],
     "language": "python",
     "metadata": {},
     "outputs": [
      {
       "metadata": {},
       "output_type": "pyout",
       "prompt_number": 49,
       "text": [
        "array([False, False,  True,  True,  True], dtype=bool)"
       ]
      }
     ],
     "prompt_number": 49
    },
    {
     "cell_type": "code",
     "collapsed": false,
     "input": [
      "z[z > 3]  # Conditional extraction"
     ],
     "language": "python",
     "metadata": {},
     "outputs": [
      {
       "metadata": {},
       "output_type": "pyout",
       "prompt_number": 50,
       "text": [
        "array([  5. ,   7.5,  10. ])"
       ]
      }
     ],
     "prompt_number": 50
    },
    {
     "cell_type": "heading",
     "level": 2,
     "metadata": {},
     "source": [
      "Matplotlib"
     ]
    },
    {
     "cell_type": "markdown",
     "metadata": {},
     "source": [
      "Matplotlib is an outstanding plotting and visualization library for Python that interacts nicely with NumPy.  Here are a few quick examples.  We'll see more below when we discuss the SciPy library."
     ]
    },
    {
     "cell_type": "code",
     "collapsed": false,
     "input": [
      "import matplotlib.pyplot as plt  # Import main functionality"
     ],
     "language": "python",
     "metadata": {},
     "outputs": [],
     "prompt_number": 51
    },
    {
     "cell_type": "markdown",
     "metadata": {},
     "source": [
      "Display figures in this browser window rather than having them open up separately:"
     ]
    },
    {
     "cell_type": "code",
     "collapsed": false,
     "input": [
      "%matplotlib inline "
     ],
     "language": "python",
     "metadata": {},
     "outputs": [],
     "prompt_number": 52
    },
    {
     "cell_type": "markdown",
     "metadata": {},
     "source": [
      "Create something to plot"
     ]
    },
    {
     "cell_type": "code",
     "collapsed": false,
     "input": [
      "x = np.linspace(-2, 2, 100)\n",
      "y = x**2"
     ],
     "language": "python",
     "metadata": {},
     "outputs": [],
     "prompt_number": 53
    },
    {
     "cell_type": "code",
     "collapsed": false,
     "input": [
      "fig, ax = plt.subplots()  # Create axes and figure window\n",
      "ax.plot(x, y, 'b-')"
     ],
     "language": "python",
     "metadata": {},
     "outputs": [
      {
       "metadata": {},
       "output_type": "pyout",
       "prompt_number": 54,
       "text": [
        "[<matplotlib.lines.Line2D at 0x7f7b26ac33d0>]"
       ]
      },
      {
       "metadata": {},
       "output_type": "display_data",
       "png": "[encoded data removed]",
       "text": [
        "<matplotlib.figure.Figure at 0x7f7b26ac3310>"
       ]
      }
     ],
     "prompt_number": 54
    },
    {
     "cell_type": "markdown",
     "metadata": {},
     "source": [
      "Here's a slightly more complex plot"
     ]
    },
    {
     "cell_type": "code",
     "collapsed": false,
     "input": [
      "y3 = x**3\n",
      "fig, ax = plt.subplots()  # Create axes and figure window\n",
      "ax.plot(x, y, 'b-', lw=2, alpha=0.8, label='$x^2$')\n",
      "ax.plot(x, y3, 'g-', lw=2, alpha=0.8, label='$x^3$')\n",
      "ax.legend(loc='lower right')"
     ],
     "language": "python",
     "metadata": {},
     "outputs": [
      {
       "metadata": {},
       "output_type": "pyout",
       "prompt_number": 55,
       "text": [
        "<matplotlib.legend.Legend at 0x7f7b268ed890>"
       ]
      },
      {
       "metadata": {},
       "output_type": "display_data",
       "png": "[encoded data removed]",
       "text": [
        "<matplotlib.figure.Figure at 0x7f7b26a7f6d0>"
       ]
      }
     ],
     "prompt_number": 55
    },
    {
     "cell_type": "heading",
     "level": 2,
     "metadata": {},
     "source": [
      "SciPy"
     ]
    },
    {
     "cell_type": "markdown",
     "metadata": {},
     "source": [
      "Let's just cover some simple examples --- references for further reading are below"
     ]
    },
    {
     "cell_type": "heading",
     "level": 3,
     "metadata": {},
     "source": [
      "Statistics and distributions"
     ]
    },
    {
     "cell_type": "markdown",
     "metadata": {},
     "source": [
      "Let's use ``scipy.stats`` to generate some data from the Beta distribution"
     ]
    },
    {
     "cell_type": "code",
     "collapsed": false,
     "input": [
      "from scipy.stats import beta\n",
      "q = beta(5, 5)      # Beta(a, b), with a = b = 5\n",
      "obs = q.rvs(2000)   # 2000 observations"
     ],
     "language": "python",
     "metadata": {},
     "outputs": [],
     "prompt_number": 56
    },
    {
     "cell_type": "markdown",
     "metadata": {},
     "source": [
      "Now let's histogram it and compare it to the original density"
     ]
    },
    {
     "cell_type": "code",
     "collapsed": false,
     "input": [
      "fig, ax = plt.subplots()\n",
      "ax.hist(obs, bins=40, normed=True)\n",
      "grid = np.linspace(0.01, 0.99, 100)\n",
      "ax.plot(grid, q.pdf(grid), 'k-', linewidth=2)"
     ],
     "language": "python",
     "metadata": {},
     "outputs": [
      {
       "metadata": {},
       "output_type": "pyout",
       "prompt_number": 57,
       "text": [
        "[<matplotlib.lines.Line2D at 0x7f7b1f853490>]"
       ]
      },
      {
       "metadata": {},
       "output_type": "display_data",
       "png": "[encoded data removed]",
       "text": [
        "<matplotlib.figure.Figure at 0x7f7b1f853450>"
       ]
      }
     ],
     "prompt_number": 57
    },
    {
     "cell_type": "markdown",
     "metadata": {},
     "source": [
      "Other methods"
     ]
    },
    {
     "cell_type": "code",
     "collapsed": false,
     "input": [
      "type(q)"
     ],
     "language": "python",
     "metadata": {},
     "outputs": [
      {
       "metadata": {},
       "output_type": "pyout",
       "prompt_number": 58,
       "text": [
        "scipy.stats._distn_infrastructure.rv_frozen"
       ]
      }
     ],
     "prompt_number": 58
    },
    {
     "cell_type": "code",
     "collapsed": false,
     "input": [
      "dir(q)  # Let's see all its methods"
     ],
     "language": "python",
     "metadata": {},
     "outputs": [
      {
       "metadata": {},
       "output_type": "pyout",
       "prompt_number": 59,
       "text": [
        "['__class__',\n",
        " '__delattr__',\n",
        " '__dict__',\n",
        " '__doc__',\n",
        " '__format__',\n",
        " '__getattribute__',\n",
        " '__hash__',\n",
        " '__init__',\n",
        " '__module__',\n",
        " '__new__',\n",
        " '__reduce__',\n",
        " '__reduce_ex__',\n",
        " '__repr__',\n",
        " '__setattr__',\n",
        " '__sizeof__',\n",
        " '__str__',\n",
        " '__subclasshook__',\n",
        " '__weakref__',\n",
        " 'args',\n",
        " 'cdf',\n",
        " 'dist',\n",
        " 'entropy',\n",
        " 'interval',\n",
        " 'isf',\n",
        " 'kwds',\n",
        " 'logcdf',\n",
        " 'logpdf',\n",
        " 'logpmf',\n",
        " 'logsf',\n",
        " 'mean',\n",
        " 'median',\n",
        " 'moment',\n",
        " 'pdf',\n",
        " 'pmf',\n",
        " 'ppf',\n",
        " 'rvs',\n",
        " 'sf',\n",
        " 'stats',\n",
        " 'std',\n",
        " 'var']"
       ]
      }
     ],
     "prompt_number": 59
    },
    {
     "cell_type": "code",
     "collapsed": false,
     "input": [
      "q.cdf(0.5)"
     ],
     "language": "python",
     "metadata": {},
     "outputs": [
      {
       "metadata": {},
       "output_type": "pyout",
       "prompt_number": 60,
       "text": [
        "0.50000000000000011"
       ]
      }
     ],
     "prompt_number": 60
    },
    {
     "cell_type": "code",
     "collapsed": false,
     "input": [
      "q.pdf(0.5)"
     ],
     "language": "python",
     "metadata": {},
     "outputs": [
      {
       "metadata": {},
       "output_type": "pyout",
       "prompt_number": 61,
       "text": [
        "2.4609375000000009"
       ]
      }
     ],
     "prompt_number": 61
    },
    {
     "cell_type": "code",
     "collapsed": false,
     "input": [
      "q.mean()"
     ],
     "language": "python",
     "metadata": {},
     "outputs": [
      {
       "metadata": {},
       "output_type": "pyout",
       "prompt_number": 62,
       "text": [
        "0.5"
       ]
      }
     ],
     "prompt_number": 62
    },
    {
     "cell_type": "markdown",
     "metadata": {},
     "source": [
      "Basic linear regression:"
     ]
    },
    {
     "cell_type": "code",
     "collapsed": false,
     "input": [
      "from scipy.stats import linregress\n",
      "n = 100\n",
      "alpha, beta, sigma = 1, 2, 1.5\n",
      "x = np.random.randn(n)  # n standard normals\n",
      "y = alpha + beta * x + sigma * np.random.randn(n)\n",
      "beta_hat, alpha_hat, r_value, p_value, std_err = linregress(x, y)\n",
      "print(\"gradient = {}\".format(beta_hat))\n",
      "print(\"intercept = {}\".format(alpha_hat))"
     ],
     "language": "python",
     "metadata": {},
     "outputs": [
      {
       "output_type": "stream",
       "stream": "stdout",
       "text": [
        "gradient = 1.82861441656\n",
        "intercept = 1.33570551912\n"
       ]
      }
     ],
     "prompt_number": 63
    },
    {
     "cell_type": "markdown",
     "metadata": {},
     "source": [
      "Let's plot this with data and line of best fit"
     ]
    },
    {
     "cell_type": "code",
     "collapsed": false,
     "input": [
      "fig, ax = plt.subplots(figsize=(8, 5))\n",
      "ax.plot(x, y, 'bo', alpha=0.6, label='observations')\n",
      "xgrid = np.linspace(-3, 3, 2)\n",
      "ax.plot(xgrid, alpha_hat + beta_hat * xgrid, 'k-', lw=2, alpha=0.8, label='best fit')\n",
      "ax.grid()\n",
      "ax.legend(loc='upper left')"
     ],
     "language": "python",
     "metadata": {},
     "outputs": [
      {
       "metadata": {},
       "output_type": "pyout",
       "prompt_number": 64,
       "text": [
        "<matplotlib.legend.Legend at 0x7f7b1eecaa90>"
       ]
      },
      {
       "metadata": {},
       "output_type": "display_data",
       "png": "[encoded data removed]",
       "text": [
        "<matplotlib.figure.Figure at 0x7f7b1f8532d0>"
       ]
      }
     ],
     "prompt_number": 64
    },
    {
     "cell_type": "heading",
     "level": 3,
     "metadata": {},
     "source": [
      "Roots and fixed points"
     ]
    },
    {
     "cell_type": "markdown",
     "metadata": {},
     "source": [
      "Let's choose an arbitrary function to work with"
     ]
    },
    {
     "cell_type": "code",
     "collapsed": false,
     "input": [
      "fig, ax = plt.subplots()\n",
      "def f(x):\n",
      "     return np.sin(4 * (x - 0.25)) + x + x**20 - 1\n",
      "x = np.linspace(0, 1, 100)\n",
      "ax.plot(x, f(x))\n",
      "ax.plot(x, 0 * x)"
     ],
     "language": "python",
     "metadata": {},
     "outputs": [
      {
       "metadata": {},
       "output_type": "pyout",
       "prompt_number": 65,
       "text": [
        "[<matplotlib.lines.Line2D at 0x7f7b1ee9b750>]"
       ]
      },
      {
       "metadata": {},
       "output_type": "display_data",
       "png": "[encoded data removed]",
       "text": [
        "<matplotlib.figure.Figure at 0x7f7b1ee9b7d0>"
       ]
      }
     ],
     "prompt_number": 65
    },
    {
     "cell_type": "code",
     "collapsed": false,
     "input": [
      "from scipy.optimize import bisect  # Bisection algorithm --- slow but robust\n",
      "bisect(f, 0, 1)"
     ],
     "language": "python",
     "metadata": {},
     "outputs": [
      {
       "metadata": {},
       "output_type": "pyout",
       "prompt_number": 66,
       "text": [
        "0.4082935042797544"
       ]
      }
     ],
     "prompt_number": 66
    },
    {
     "cell_type": "code",
     "collapsed": false,
     "input": [
      "from scipy.optimize import newton  #  Newton's method --- fast but less robust\n",
      "newton(f, 0.2)   # Start the search at initial condition x = 0.2"
     ],
     "language": "python",
     "metadata": {},
     "outputs": [
      {
       "metadata": {},
       "output_type": "pyout",
       "prompt_number": 67,
       "text": [
        "0.40829350427935679"
       ]
      }
     ],
     "prompt_number": 67
    },
    {
     "cell_type": "code",
     "collapsed": false,
     "input": [
      "newton(f, 0.7)   # Start the search at x = 0.7 instead "
     ],
     "language": "python",
     "metadata": {},
     "outputs": [
      {
       "metadata": {},
       "output_type": "pyout",
       "prompt_number": 68,
       "text": [
        "0.70017000000002816"
       ]
      }
     ],
     "prompt_number": 68
    },
    {
     "cell_type": "markdown",
     "metadata": {},
     "source": [
      "Here we see that the algorithm gets it wrong --- ``newton`` is fast but not robust\n",
      "\n",
      "Let's try a hybrid method"
     ]
    },
    {
     "cell_type": "code",
     "collapsed": false,
     "input": [
      "from scipy.optimize import brentq\n",
      "brentq(f, 0, 1) # Hybrid method"
     ],
     "language": "python",
     "metadata": {},
     "outputs": [
      {
       "metadata": {},
       "output_type": "pyout",
       "prompt_number": 69,
       "text": [
        "0.40829350427936706"
       ]
      }
     ],
     "prompt_number": 69
    },
    {
     "cell_type": "code",
     "collapsed": false,
     "input": [
      "timeit bisect(f, 0, 1)"
     ],
     "language": "python",
     "metadata": {},
     "outputs": [
      {
       "output_type": "stream",
       "stream": "stdout",
       "text": [
        "10000 loops, best of 3: 102 \u00b5s per loop\n"
       ]
      }
     ],
     "prompt_number": 70
    },
    {
     "cell_type": "code",
     "collapsed": false,
     "input": [
      "timeit newton(f, 0.2)"
     ],
     "language": "python",
     "metadata": {},
     "outputs": [
      {
       "output_type": "stream",
       "stream": "stdout",
       "text": [
        "10000 loops, best of 3: 23.8 \u00b5s per loop\n"
       ]
      }
     ],
     "prompt_number": 71
    },
    {
     "cell_type": "code",
     "collapsed": false,
     "input": [
      "timeit brentq(f, 0, 1)"
     ],
     "language": "python",
     "metadata": {},
     "outputs": [
      {
       "output_type": "stream",
       "stream": "stdout",
       "text": [
        "10000 loops, best of 3: 28.6 \u00b5s per loop\n"
       ]
      }
     ],
     "prompt_number": 72
    },
    {
     "cell_type": "markdown",
     "metadata": {},
     "source": [
      "Note that the hybrid method is robust but still quite fast..."
     ]
    },
    {
     "cell_type": "heading",
     "level": 3,
     "metadata": {},
     "source": [
      "Numerical optimization and integration"
     ]
    },
    {
     "cell_type": "code",
     "collapsed": false,
     "input": [
      "from scipy.optimize import fminbound\n",
      "fminbound(lambda x: x**2, -1, 2)  # Search in [-1, 2]"
     ],
     "language": "python",
     "metadata": {},
     "outputs": [
      {
       "metadata": {},
       "output_type": "pyout",
       "prompt_number": 73,
       "text": [
        "0.0"
       ]
      }
     ],
     "prompt_number": 73
    },
    {
     "cell_type": "code",
     "collapsed": false,
     "input": [
      "from scipy.integrate import quad\n",
      "integral, error = quad(lambda x: x**2, 0, 1)\n",
      "integral"
     ],
     "language": "python",
     "metadata": {},
     "outputs": [
      {
       "metadata": {},
       "output_type": "pyout",
       "prompt_number": 74,
       "text": [
        "0.33333333333333337"
       ]
      }
     ],
     "prompt_number": 74
    },
    {
     "cell_type": "heading",
     "level": 3,
     "metadata": {},
     "source": [
      "Linear Algebra"
     ]
    },
    {
     "cell_type": "markdown",
     "metadata": {},
     "source": [
      "Let's look at some of the most common routines from linear and matrix algebra"
     ]
    },
    {
     "cell_type": "code",
     "collapsed": false,
     "input": [
      "import scipy.linalg as la"
     ],
     "language": "python",
     "metadata": {},
     "outputs": [],
     "prompt_number": 75
    },
    {
     "cell_type": "markdown",
     "metadata": {},
     "source": [
      "We'll experiment with matrices\n",
      "\n",
      "$$ \n",
      "  A = \\begin{bmatrix} 2 & -1 \\\\ 3 & 0 \\end{bmatrix} \n",
      "  \\quad \\text{and} \\quad\n",
      "  b = \\begin{bmatrix} 1 \\\\ 1 \\end{bmatrix}\n",
      "$$"
     ]
    },
    {
     "cell_type": "code",
     "collapsed": false,
     "input": [
      "A = [[2, -1],\n",
      "     [3, 0]]\n",
      "A = np.array(A) # Convert from list to NumPy array\n",
      "b = np.ones((2, 1))  # Shape is 2 x 1"
     ],
     "language": "python",
     "metadata": {},
     "outputs": [],
     "prompt_number": 76
    },
    {
     "cell_type": "code",
     "collapsed": false,
     "input": [
      "A"
     ],
     "language": "python",
     "metadata": {},
     "outputs": [
      {
       "metadata": {},
       "output_type": "pyout",
       "prompt_number": 77,
       "text": [
        "array([[ 2, -1],\n",
        "       [ 3,  0]])"
       ]
      }
     ],
     "prompt_number": 77
    },
    {
     "cell_type": "code",
     "collapsed": false,
     "input": [
      "b"
     ],
     "language": "python",
     "metadata": {},
     "outputs": [
      {
       "metadata": {},
       "output_type": "pyout",
       "prompt_number": 78,
       "text": [
        "array([[ 1.],\n",
        "       [ 1.]])"
       ]
      }
     ],
     "prompt_number": 78
    },
    {
     "cell_type": "code",
     "collapsed": false,
     "input": [
      "x = la.solve(A, b)  # Solve for x in Ax = b\n",
      "print(x)"
     ],
     "language": "python",
     "metadata": {},
     "outputs": [
      {
       "output_type": "stream",
       "stream": "stdout",
       "text": [
        "[[ 0.33333333]\n",
        " [-0.33333333]]\n"
       ]
      }
     ],
     "prompt_number": 79
    },
    {
     "cell_type": "markdown",
     "metadata": {},
     "source": [
      "Let's check that $Ax = b$"
     ]
    },
    {
     "cell_type": "code",
     "collapsed": false,
     "input": [
      "np.dot(A, x)"
     ],
     "language": "python",
     "metadata": {},
     "outputs": [
      {
       "metadata": {},
       "output_type": "pyout",
       "prompt_number": 80,
       "text": [
        "array([[ 1.],\n",
        "       [ 1.]])"
       ]
      }
     ],
     "prompt_number": 80
    },
    {
     "cell_type": "markdown",
     "metadata": {},
     "source": [
      "We can also invert directly"
     ]
    },
    {
     "cell_type": "code",
     "collapsed": false,
     "input": [
      "la.inv(A)"
     ],
     "language": "python",
     "metadata": {},
     "outputs": [
      {
       "metadata": {},
       "output_type": "pyout",
       "prompt_number": 81,
       "text": [
        "array([[ 0.        ,  0.33333333],\n",
        "       [-1.        ,  0.66666667]])"
       ]
      }
     ],
     "prompt_number": 81
    },
    {
     "cell_type": "code",
     "collapsed": false,
     "input": [
      "np.dot(A, la.inv(A))  # Should be the identity"
     ],
     "language": "python",
     "metadata": {},
     "outputs": [
      {
       "metadata": {},
       "output_type": "pyout",
       "prompt_number": 82,
       "text": [
        "array([[ 1.,  0.],\n",
        "       [ 0.,  1.]])"
       ]
      }
     ],
     "prompt_number": 82
    },
    {
     "cell_type": "markdown",
     "metadata": {},
     "source": [
      "Let's compute the eigenvalues and eigenvectors"
     ]
    },
    {
     "cell_type": "code",
     "collapsed": false,
     "input": [
      "eigvals, eigvecs = la.eig(A)"
     ],
     "language": "python",
     "metadata": {},
     "outputs": [],
     "prompt_number": 83
    },
    {
     "cell_type": "code",
     "collapsed": false,
     "input": [
      "print(\"eigenvalues = {}\".format(eigvals))"
     ],
     "language": "python",
     "metadata": {},
     "outputs": [
      {
       "output_type": "stream",
       "stream": "stdout",
       "text": [
        "eigenvalues = [ 1.+1.41421356j  1.-1.41421356j]\n"
       ]
      }
     ],
     "prompt_number": 84
    },
    {
     "cell_type": "code",
     "collapsed": false,
     "input": [
      "print(\"first eigenvector = {}\".format(eigvecs[:, 0]))"
     ],
     "language": "python",
     "metadata": {},
     "outputs": [
      {
       "output_type": "stream",
       "stream": "stdout",
       "text": [
        "first eigenvector = [ 0.28867513+0.40824829j  0.86602540+0.j        ]\n"
       ]
      }
     ],
     "prompt_number": 85
    },
    {
     "cell_type": "heading",
     "level": 3,
     "metadata": {},
     "source": [
      "More information"
     ]
    },
    {
     "cell_type": "markdown",
     "metadata": {},
     "source": [
      "* linear algebra: http://docs.scipy.org/doc/scipy/reference/linalg.html\n",
      "* numerical integration: http://docs.scipy.org/doc/scipy/reference/integrate.html\n",
      "* interpolation: http://docs.scipy.org/doc/scipy/reference/interpolate.html\n",
      "* optimization: http://docs.scipy.org/doc/scipy/reference/optimize.html\n",
      "* distributions and random number generation: http://docs.scipy.org/doc/scipy/reference/stats.html\n",
      "* signal processing: http://docs.scipy.org/doc/scipy/reference/signal.html\n"
     ]
    },
    {
     "cell_type": "heading",
     "level": 2,
     "metadata": {},
     "source": [
      "Pandas"
     ]
    },
    {
     "cell_type": "markdown",
     "metadata": {},
     "source": [
      "Pandas is a very popular library for working with data sets.  In pandas, data is held in a dataframe, which is kind of like a spread sheet"
     ]
    },
    {
     "cell_type": "code",
     "collapsed": false,
     "input": [
      "import pandas as pd"
     ],
     "language": "python",
     "metadata": {},
     "outputs": [],
     "prompt_number": 86
    },
    {
     "cell_type": "markdown",
     "metadata": {},
     "source": [
      "Let's start by writing a test data set to the present working directory, so we can read it back in as a dataframe using pandas.  We use an IPython magic to write the data from a cell to a file:"
     ]
    },
    {
     "cell_type": "code",
     "collapsed": false,
     "input": [
      "%%file test_data.csv\n",
      "\"country\",\"country isocode\",\"year\",\"POP\",\"XRAT\",\"tcgdp\",\"cc\",\"cg\"\n",
      "\"Argentina\",\"ARG\",\"2000\",\"37335.653\",\"0.9995\",\"295072.21869\",\"75.716805379\",\"5.5788042896\"\n",
      "\"Australia\",\"AUS\",\"2000\",\"19053.186\",\"1.72483\",\"541804.6521\",\"67.759025993\",\"6.7200975332\"\n",
      "\"India\",\"IND\",\"2000\",\"1006300.297\",\"44.9416\",\"1728144.3748\",\"64.575551328\",\"14.072205773\"\n",
      "\"Israel\",\"ISR\",\"2000\",\"6114.57\",\"4.07733\",\"129253.89423\",\"64.436450847\",\"10.266688415\"\n",
      "\"Malawi\",\"MWI\",\"2000\",\"11801.505\",\"59.543808333\",\"5026.2217836\",\"74.707624181\",\"11.658954494\"\n",
      "\"South Africa\",\"ZAF\",\"2000\",\"45064.098\",\"6.93983\",\"227242.36949\",\"72.718710427\",\"5.7265463933\"\n",
      "\"United States\",\"USA\",\"2000\",\"282171.957\",\"1\",\"9898700\",\"72.347054303\",\"6.0324539789\"\n",
      "\"Uruguay\",\"URY\",\"2000\",\"3219.793\",\"12.099591667\",\"25255.961693\",\"78.978740282\",\"5.108067988\""
     ],
     "language": "python",
     "metadata": {},
     "outputs": [
      {
       "output_type": "stream",
       "stream": "stdout",
       "text": [
        "Overwriting test_data.csv\n"
       ]
      }
     ],
     "prompt_number": 87
    },
    {
     "cell_type": "code",
     "collapsed": false,
     "input": [
      "%ls *.csv # Check it's there"
     ],
     "language": "python",
     "metadata": {},
     "outputs": [
      {
       "output_type": "stream",
       "stream": "stdout",
       "text": [
        "test_data.csv\r\n"
       ]
      }
     ],
     "prompt_number": 88
    },
    {
     "cell_type": "code",
     "collapsed": false,
     "input": [
      "df = pd.read_csv('test_data.csv')"
     ],
     "language": "python",
     "metadata": {},
     "outputs": [],
     "prompt_number": 89
    },
    {
     "cell_type": "code",
     "collapsed": false,
     "input": [
      "df"
     ],
     "language": "python",
     "metadata": {},
     "outputs": [
      {
       "html": [
        "<div style=\"max-height:1000px;max-width:1500px;overflow:auto;\">\n",
        "<table border=\"1\" class=\"dataframe\">\n",
        "  <thead>\n",
        "    <tr style=\"text-align: right;\">\n",
        "      <th></th>\n",
        "      <th>country</th>\n",
        "      <th>country isocode</th>\n",
        "      <th>year</th>\n",
        "      <th>POP</th>\n",
        "      <th>XRAT</th>\n",
        "      <th>tcgdp</th>\n",
        "      <th>cc</th>\n",
        "      <th>cg</th>\n",
        "    </tr>\n",
        "  </thead>\n",
        "  <tbody>\n",
        "    <tr>\n",
        "      <th>0</th>\n",
        "      <td>     Argentina</td>\n",
        "      <td> ARG</td>\n",
        "      <td> 2000</td>\n",
        "      <td>   37335.653</td>\n",
        "      <td>  0.999500</td>\n",
        "      <td>  295072.218690</td>\n",
        "      <td> 75.716805</td>\n",
        "      <td>  5.578804</td>\n",
        "    </tr>\n",
        "    <tr>\n",
        "      <th>1</th>\n",
        "      <td>     Australia</td>\n",
        "      <td> AUS</td>\n",
        "      <td> 2000</td>\n",
        "      <td>   19053.186</td>\n",
        "      <td>  1.724830</td>\n",
        "      <td>  541804.652100</td>\n",
        "      <td> 67.759026</td>\n",
        "      <td>  6.720098</td>\n",
        "    </tr>\n",
        "    <tr>\n",
        "      <th>2</th>\n",
        "      <td>         India</td>\n",
        "      <td> IND</td>\n",
        "      <td> 2000</td>\n",
        "      <td> 1006300.297</td>\n",
        "      <td> 44.941600</td>\n",
        "      <td> 1728144.374800</td>\n",
        "      <td> 64.575551</td>\n",
        "      <td> 14.072206</td>\n",
        "    </tr>\n",
        "    <tr>\n",
        "      <th>3</th>\n",
        "      <td>        Israel</td>\n",
        "      <td> ISR</td>\n",
        "      <td> 2000</td>\n",
        "      <td>    6114.570</td>\n",
        "      <td>  4.077330</td>\n",
        "      <td>  129253.894230</td>\n",
        "      <td> 64.436451</td>\n",
        "      <td> 10.266688</td>\n",
        "    </tr>\n",
        "    <tr>\n",
        "      <th>4</th>\n",
        "      <td>        Malawi</td>\n",
        "      <td> MWI</td>\n",
        "      <td> 2000</td>\n",
        "      <td>   11801.505</td>\n",
        "      <td> 59.543808</td>\n",
        "      <td>    5026.221784</td>\n",
        "      <td> 74.707624</td>\n",
        "      <td> 11.658954</td>\n",
        "    </tr>\n",
        "    <tr>\n",
        "      <th>5</th>\n",
        "      <td>  South Africa</td>\n",
        "      <td> ZAF</td>\n",
        "      <td> 2000</td>\n",
        "      <td>   45064.098</td>\n",
        "      <td>  6.939830</td>\n",
        "      <td>  227242.369490</td>\n",
        "      <td> 72.718710</td>\n",
        "      <td>  5.726546</td>\n",
        "    </tr>\n",
        "    <tr>\n",
        "      <th>6</th>\n",
        "      <td> United States</td>\n",
        "      <td> USA</td>\n",
        "      <td> 2000</td>\n",
        "      <td>  282171.957</td>\n",
        "      <td>  1.000000</td>\n",
        "      <td> 9898700.000000</td>\n",
        "      <td> 72.347054</td>\n",
        "      <td>  6.032454</td>\n",
        "    </tr>\n",
        "    <tr>\n",
        "      <th>7</th>\n",
        "      <td>       Uruguay</td>\n",
        "      <td> URY</td>\n",
        "      <td> 2000</td>\n",
        "      <td>    3219.793</td>\n",
        "      <td> 12.099592</td>\n",
        "      <td>   25255.961693</td>\n",
        "      <td> 78.978740</td>\n",
        "      <td>  5.108068</td>\n",
        "    </tr>\n",
        "  </tbody>\n",
        "</table>\n",
        "</div>"
       ],
       "metadata": {},
       "output_type": "pyout",
       "prompt_number": 90,
       "text": [
        "         country country isocode  year          POP       XRAT  \\\n",
        "0      Argentina             ARG  2000    37335.653   0.999500   \n",
        "1      Australia             AUS  2000    19053.186   1.724830   \n",
        "2          India             IND  2000  1006300.297  44.941600   \n",
        "3         Israel             ISR  2000     6114.570   4.077330   \n",
        "4         Malawi             MWI  2000    11801.505  59.543808   \n",
        "5   South Africa             ZAF  2000    45064.098   6.939830   \n",
        "6  United States             USA  2000   282171.957   1.000000   \n",
        "7        Uruguay             URY  2000     3219.793  12.099592   \n",
        "\n",
        "            tcgdp         cc         cg  \n",
        "0   295072.218690  75.716805   5.578804  \n",
        "1   541804.652100  67.759026   6.720098  \n",
        "2  1728144.374800  64.575551  14.072206  \n",
        "3   129253.894230  64.436451  10.266688  \n",
        "4     5026.221784  74.707624  11.658954  \n",
        "5   227242.369490  72.718710   5.726546  \n",
        "6  9898700.000000  72.347054   6.032454  \n",
        "7    25255.961693  78.978740   5.108068  "
       ]
      }
     ],
     "prompt_number": 90
    },
    {
     "cell_type": "markdown",
     "metadata": {},
     "source": [
      "Let's try that again but this time using the country as the index column"
     ]
    },
    {
     "cell_type": "code",
     "collapsed": false,
     "input": [
      "df = pd.read_csv('test_data.csv', index_col='country')"
     ],
     "language": "python",
     "metadata": {},
     "outputs": [],
     "prompt_number": 91
    },
    {
     "cell_type": "code",
     "collapsed": false,
     "input": [
      "df"
     ],
     "language": "python",
     "metadata": {},
     "outputs": [
      {
       "html": [
        "<div style=\"max-height:1000px;max-width:1500px;overflow:auto;\">\n",
        "<table border=\"1\" class=\"dataframe\">\n",
        "  <thead>\n",
        "    <tr style=\"text-align: right;\">\n",
        "      <th></th>\n",
        "      <th>country isocode</th>\n",
        "      <th>year</th>\n",
        "      <th>POP</th>\n",
        "      <th>XRAT</th>\n",
        "      <th>tcgdp</th>\n",
        "      <th>cc</th>\n",
        "      <th>cg</th>\n",
        "    </tr>\n",
        "    <tr>\n",
        "      <th>country</th>\n",
        "      <th></th>\n",
        "      <th></th>\n",
        "      <th></th>\n",
        "      <th></th>\n",
        "      <th></th>\n",
        "      <th></th>\n",
        "      <th></th>\n",
        "    </tr>\n",
        "  </thead>\n",
        "  <tbody>\n",
        "    <tr>\n",
        "      <th>Argentina</th>\n",
        "      <td> ARG</td>\n",
        "      <td> 2000</td>\n",
        "      <td>   37335.653</td>\n",
        "      <td>  0.999500</td>\n",
        "      <td>  295072.218690</td>\n",
        "      <td> 75.716805</td>\n",
        "      <td>  5.578804</td>\n",
        "    </tr>\n",
        "    <tr>\n",
        "      <th>Australia</th>\n",
        "      <td> AUS</td>\n",
        "      <td> 2000</td>\n",
        "      <td>   19053.186</td>\n",
        "      <td>  1.724830</td>\n",
        "      <td>  541804.652100</td>\n",
        "      <td> 67.759026</td>\n",
        "      <td>  6.720098</td>\n",
        "    </tr>\n",
        "    <tr>\n",
        "      <th>India</th>\n",
        "      <td> IND</td>\n",
        "      <td> 2000</td>\n",
        "      <td> 1006300.297</td>\n",
        "      <td> 44.941600</td>\n",
        "      <td> 1728144.374800</td>\n",
        "      <td> 64.575551</td>\n",
        "      <td> 14.072206</td>\n",
        "    </tr>\n",
        "    <tr>\n",
        "      <th>Israel</th>\n",
        "      <td> ISR</td>\n",
        "      <td> 2000</td>\n",
        "      <td>    6114.570</td>\n",
        "      <td>  4.077330</td>\n",
        "      <td>  129253.894230</td>\n",
        "      <td> 64.436451</td>\n",
        "      <td> 10.266688</td>\n",
        "    </tr>\n",
        "    <tr>\n",
        "      <th>Malawi</th>\n",
        "      <td> MWI</td>\n",
        "      <td> 2000</td>\n",
        "      <td>   11801.505</td>\n",
        "      <td> 59.543808</td>\n",
        "      <td>    5026.221784</td>\n",
        "      <td> 74.707624</td>\n",
        "      <td> 11.658954</td>\n",
        "    </tr>\n",
        "    <tr>\n",
        "      <th>South Africa</th>\n",
        "      <td> ZAF</td>\n",
        "      <td> 2000</td>\n",
        "      <td>   45064.098</td>\n",
        "      <td>  6.939830</td>\n",
        "      <td>  227242.369490</td>\n",
        "      <td> 72.718710</td>\n",
        "      <td>  5.726546</td>\n",
        "    </tr>\n",
        "    <tr>\n",
        "      <th>United States</th>\n",
        "      <td> USA</td>\n",
        "      <td> 2000</td>\n",
        "      <td>  282171.957</td>\n",
        "      <td>  1.000000</td>\n",
        "      <td> 9898700.000000</td>\n",
        "      <td> 72.347054</td>\n",
        "      <td>  6.032454</td>\n",
        "    </tr>\n",
        "    <tr>\n",
        "      <th>Uruguay</th>\n",
        "      <td> URY</td>\n",
        "      <td> 2000</td>\n",
        "      <td>    3219.793</td>\n",
        "      <td> 12.099592</td>\n",
        "      <td>   25255.961693</td>\n",
        "      <td> 78.978740</td>\n",
        "      <td>  5.108068</td>\n",
        "    </tr>\n",
        "  </tbody>\n",
        "</table>\n",
        "</div>"
       ],
       "metadata": {},
       "output_type": "pyout",
       "prompt_number": 92,
       "text": [
        "              country isocode  year          POP       XRAT           tcgdp  \\\n",
        "country                                                                       \n",
        "Argentina                 ARG  2000    37335.653   0.999500   295072.218690   \n",
        "Australia                 AUS  2000    19053.186   1.724830   541804.652100   \n",
        "India                     IND  2000  1006300.297  44.941600  1728144.374800   \n",
        "Israel                    ISR  2000     6114.570   4.077330   129253.894230   \n",
        "Malawi                    MWI  2000    11801.505  59.543808     5026.221784   \n",
        "South Africa              ZAF  2000    45064.098   6.939830   227242.369490   \n",
        "United States             USA  2000   282171.957   1.000000  9898700.000000   \n",
        "Uruguay                   URY  2000     3219.793  12.099592    25255.961693   \n",
        "\n",
        "                      cc         cg  \n",
        "country                              \n",
        "Argentina      75.716805   5.578804  \n",
        "Australia      67.759026   6.720098  \n",
        "India          64.575551  14.072206  \n",
        "Israel         64.436451  10.266688  \n",
        "Malawi         74.707624  11.658954  \n",
        "South Africa   72.718710   5.726546  \n",
        "United States  72.347054   6.032454  \n",
        "Uruguay        78.978740   5.108068  "
       ]
      }
     ],
     "prompt_number": 92
    },
    {
     "cell_type": "markdown",
     "metadata": {},
     "source": [
      "Let's drop the year since it's not very informative"
     ]
    },
    {
     "cell_type": "code",
     "collapsed": false,
     "input": [
      "df.drop(['year'], axis=1, inplace=True)\n",
      "df"
     ],
     "language": "python",
     "metadata": {},
     "outputs": [
      {
       "html": [
        "<div style=\"max-height:1000px;max-width:1500px;overflow:auto;\">\n",
        "<table border=\"1\" class=\"dataframe\">\n",
        "  <thead>\n",
        "    <tr style=\"text-align: right;\">\n",
        "      <th></th>\n",
        "      <th>country isocode</th>\n",
        "      <th>POP</th>\n",
        "      <th>XRAT</th>\n",
        "      <th>tcgdp</th>\n",
        "      <th>cc</th>\n",
        "      <th>cg</th>\n",
        "    </tr>\n",
        "    <tr>\n",
        "      <th>country</th>\n",
        "      <th></th>\n",
        "      <th></th>\n",
        "      <th></th>\n",
        "      <th></th>\n",
        "      <th></th>\n",
        "      <th></th>\n",
        "    </tr>\n",
        "  </thead>\n",
        "  <tbody>\n",
        "    <tr>\n",
        "      <th>Argentina</th>\n",
        "      <td> ARG</td>\n",
        "      <td>   37335.653</td>\n",
        "      <td>  0.999500</td>\n",
        "      <td>  295072.218690</td>\n",
        "      <td> 75.716805</td>\n",
        "      <td>  5.578804</td>\n",
        "    </tr>\n",
        "    <tr>\n",
        "      <th>Australia</th>\n",
        "      <td> AUS</td>\n",
        "      <td>   19053.186</td>\n",
        "      <td>  1.724830</td>\n",
        "      <td>  541804.652100</td>\n",
        "      <td> 67.759026</td>\n",
        "      <td>  6.720098</td>\n",
        "    </tr>\n",
        "    <tr>\n",
        "      <th>India</th>\n",
        "      <td> IND</td>\n",
        "      <td> 1006300.297</td>\n",
        "      <td> 44.941600</td>\n",
        "      <td> 1728144.374800</td>\n",
        "      <td> 64.575551</td>\n",
        "      <td> 14.072206</td>\n",
        "    </tr>\n",
        "    <tr>\n",
        "      <th>Israel</th>\n",
        "      <td> ISR</td>\n",
        "      <td>    6114.570</td>\n",
        "      <td>  4.077330</td>\n",
        "      <td>  129253.894230</td>\n",
        "      <td> 64.436451</td>\n",
        "      <td> 10.266688</td>\n",
        "    </tr>\n",
        "    <tr>\n",
        "      <th>Malawi</th>\n",
        "      <td> MWI</td>\n",
        "      <td>   11801.505</td>\n",
        "      <td> 59.543808</td>\n",
        "      <td>    5026.221784</td>\n",
        "      <td> 74.707624</td>\n",
        "      <td> 11.658954</td>\n",
        "    </tr>\n",
        "    <tr>\n",
        "      <th>South Africa</th>\n",
        "      <td> ZAF</td>\n",
        "      <td>   45064.098</td>\n",
        "      <td>  6.939830</td>\n",
        "      <td>  227242.369490</td>\n",
        "      <td> 72.718710</td>\n",
        "      <td>  5.726546</td>\n",
        "    </tr>\n",
        "    <tr>\n",
        "      <th>United States</th>\n",
        "      <td> USA</td>\n",
        "      <td>  282171.957</td>\n",
        "      <td>  1.000000</td>\n",
        "      <td> 9898700.000000</td>\n",
        "      <td> 72.347054</td>\n",
        "      <td>  6.032454</td>\n",
        "    </tr>\n",
        "    <tr>\n",
        "      <th>Uruguay</th>\n",
        "      <td> URY</td>\n",
        "      <td>    3219.793</td>\n",
        "      <td> 12.099592</td>\n",
        "      <td>   25255.961693</td>\n",
        "      <td> 78.978740</td>\n",
        "      <td>  5.108068</td>\n",
        "    </tr>\n",
        "  </tbody>\n",
        "</table>\n",
        "</div>"
       ],
       "metadata": {},
       "output_type": "pyout",
       "prompt_number": 93,
       "text": [
        "              country isocode          POP       XRAT           tcgdp  \\\n",
        "country                                                                 \n",
        "Argentina                 ARG    37335.653   0.999500   295072.218690   \n",
        "Australia                 AUS    19053.186   1.724830   541804.652100   \n",
        "India                     IND  1006300.297  44.941600  1728144.374800   \n",
        "Israel                    ISR     6114.570   4.077330   129253.894230   \n",
        "Malawi                    MWI    11801.505  59.543808     5026.221784   \n",
        "South Africa              ZAF    45064.098   6.939830   227242.369490   \n",
        "United States             USA   282171.957   1.000000  9898700.000000   \n",
        "Uruguay                   URY     3219.793  12.099592    25255.961693   \n",
        "\n",
        "                      cc         cg  \n",
        "country                              \n",
        "Argentina      75.716805   5.578804  \n",
        "Australia      67.759026   6.720098  \n",
        "India          64.575551  14.072206  \n",
        "Israel         64.436451  10.266688  \n",
        "Malawi         74.707624  11.658954  \n",
        "South Africa   72.718710   5.726546  \n",
        "United States  72.347054   6.032454  \n",
        "Uruguay        78.978740   5.108068  "
       ]
      }
     ],
     "prompt_number": 93
    },
    {
     "cell_type": "markdown",
     "metadata": {},
     "source": [
      "Let's add a column for GDP per capita"
     ]
    },
    {
     "cell_type": "code",
     "collapsed": false,
     "input": [
      "df['GDP percap'] = df['tcgdp'] / df['POP']"
     ],
     "language": "python",
     "metadata": {},
     "outputs": [],
     "prompt_number": 94
    },
    {
     "cell_type": "code",
     "collapsed": false,
     "input": [
      "df"
     ],
     "language": "python",
     "metadata": {},
     "outputs": [
      {
       "html": [
        "<div style=\"max-height:1000px;max-width:1500px;overflow:auto;\">\n",
        "<table border=\"1\" class=\"dataframe\">\n",
        "  <thead>\n",
        "    <tr style=\"text-align: right;\">\n",
        "      <th></th>\n",
        "      <th>country isocode</th>\n",
        "      <th>POP</th>\n",
        "      <th>XRAT</th>\n",
        "      <th>tcgdp</th>\n",
        "      <th>cc</th>\n",
        "      <th>cg</th>\n",
        "      <th>GDP percap</th>\n",
        "    </tr>\n",
        "    <tr>\n",
        "      <th>country</th>\n",
        "      <th></th>\n",
        "      <th></th>\n",
        "      <th></th>\n",
        "      <th></th>\n",
        "      <th></th>\n",
        "      <th></th>\n",
        "      <th></th>\n",
        "    </tr>\n",
        "  </thead>\n",
        "  <tbody>\n",
        "    <tr>\n",
        "      <th>Argentina</th>\n",
        "      <td> ARG</td>\n",
        "      <td>   37335.653</td>\n",
        "      <td>  0.999500</td>\n",
        "      <td>  295072.218690</td>\n",
        "      <td> 75.716805</td>\n",
        "      <td>  5.578804</td>\n",
        "      <td>  7.903229</td>\n",
        "    </tr>\n",
        "    <tr>\n",
        "      <th>Australia</th>\n",
        "      <td> AUS</td>\n",
        "      <td>   19053.186</td>\n",
        "      <td>  1.724830</td>\n",
        "      <td>  541804.652100</td>\n",
        "      <td> 67.759026</td>\n",
        "      <td>  6.720098</td>\n",
        "      <td> 28.436433</td>\n",
        "    </tr>\n",
        "    <tr>\n",
        "      <th>India</th>\n",
        "      <td> IND</td>\n",
        "      <td> 1006300.297</td>\n",
        "      <td> 44.941600</td>\n",
        "      <td> 1728144.374800</td>\n",
        "      <td> 64.575551</td>\n",
        "      <td> 14.072206</td>\n",
        "      <td>  1.717325</td>\n",
        "    </tr>\n",
        "    <tr>\n",
        "      <th>Israel</th>\n",
        "      <td> ISR</td>\n",
        "      <td>    6114.570</td>\n",
        "      <td>  4.077330</td>\n",
        "      <td>  129253.894230</td>\n",
        "      <td> 64.436451</td>\n",
        "      <td> 10.266688</td>\n",
        "      <td> 21.138673</td>\n",
        "    </tr>\n",
        "    <tr>\n",
        "      <th>Malawi</th>\n",
        "      <td> MWI</td>\n",
        "      <td>   11801.505</td>\n",
        "      <td> 59.543808</td>\n",
        "      <td>    5026.221784</td>\n",
        "      <td> 74.707624</td>\n",
        "      <td> 11.658954</td>\n",
        "      <td>  0.425897</td>\n",
        "    </tr>\n",
        "    <tr>\n",
        "      <th>South Africa</th>\n",
        "      <td> ZAF</td>\n",
        "      <td>   45064.098</td>\n",
        "      <td>  6.939830</td>\n",
        "      <td>  227242.369490</td>\n",
        "      <td> 72.718710</td>\n",
        "      <td>  5.726546</td>\n",
        "      <td>  5.042648</td>\n",
        "    </tr>\n",
        "    <tr>\n",
        "      <th>United States</th>\n",
        "      <td> USA</td>\n",
        "      <td>  282171.957</td>\n",
        "      <td>  1.000000</td>\n",
        "      <td> 9898700.000000</td>\n",
        "      <td> 72.347054</td>\n",
        "      <td>  6.032454</td>\n",
        "      <td> 35.080382</td>\n",
        "    </tr>\n",
        "    <tr>\n",
        "      <th>Uruguay</th>\n",
        "      <td> URY</td>\n",
        "      <td>    3219.793</td>\n",
        "      <td> 12.099592</td>\n",
        "      <td>   25255.961693</td>\n",
        "      <td> 78.978740</td>\n",
        "      <td>  5.108068</td>\n",
        "      <td>  7.843971</td>\n",
        "    </tr>\n",
        "  </tbody>\n",
        "</table>\n",
        "</div>"
       ],
       "metadata": {},
       "output_type": "pyout",
       "prompt_number": 95,
       "text": [
        "              country isocode          POP       XRAT           tcgdp  \\\n",
        "country                                                                 \n",
        "Argentina                 ARG    37335.653   0.999500   295072.218690   \n",
        "Australia                 AUS    19053.186   1.724830   541804.652100   \n",
        "India                     IND  1006300.297  44.941600  1728144.374800   \n",
        "Israel                    ISR     6114.570   4.077330   129253.894230   \n",
        "Malawi                    MWI    11801.505  59.543808     5026.221784   \n",
        "South Africa              ZAF    45064.098   6.939830   227242.369490   \n",
        "United States             USA   282171.957   1.000000  9898700.000000   \n",
        "Uruguay                   URY     3219.793  12.099592    25255.961693   \n",
        "\n",
        "                      cc         cg  GDP percap  \n",
        "country                                          \n",
        "Argentina      75.716805   5.578804    7.903229  \n",
        "Australia      67.759026   6.720098   28.436433  \n",
        "India          64.575551  14.072206    1.717325  \n",
        "Israel         64.436451  10.266688   21.138673  \n",
        "Malawi         74.707624  11.658954    0.425897  \n",
        "South Africa   72.718710   5.726546    5.042648  \n",
        "United States  72.347054   6.032454   35.080382  \n",
        "Uruguay        78.978740   5.108068    7.843971  "
       ]
      }
     ],
     "prompt_number": 95
    },
    {
     "cell_type": "markdown",
     "metadata": {},
     "source": [
      "Let's sort the whole data frame by GDP per capita"
     ]
    },
    {
     "cell_type": "code",
     "collapsed": false,
     "input": [
      "df.sort_index(by='GDP percap', inplace=True)"
     ],
     "language": "python",
     "metadata": {},
     "outputs": [],
     "prompt_number": 96
    },
    {
     "cell_type": "code",
     "collapsed": false,
     "input": [
      "df"
     ],
     "language": "python",
     "metadata": {},
     "outputs": [
      {
       "html": [
        "<div style=\"max-height:1000px;max-width:1500px;overflow:auto;\">\n",
        "<table border=\"1\" class=\"dataframe\">\n",
        "  <thead>\n",
        "    <tr style=\"text-align: right;\">\n",
        "      <th></th>\n",
        "      <th>country isocode</th>\n",
        "      <th>POP</th>\n",
        "      <th>XRAT</th>\n",
        "      <th>tcgdp</th>\n",
        "      <th>cc</th>\n",
        "      <th>cg</th>\n",
        "      <th>GDP percap</th>\n",
        "    </tr>\n",
        "    <tr>\n",
        "      <th>country</th>\n",
        "      <th></th>\n",
        "      <th></th>\n",
        "      <th></th>\n",
        "      <th></th>\n",
        "      <th></th>\n",
        "      <th></th>\n",
        "      <th></th>\n",
        "    </tr>\n",
        "  </thead>\n",
        "  <tbody>\n",
        "    <tr>\n",
        "      <th>Malawi</th>\n",
        "      <td> MWI</td>\n",
        "      <td>   11801.505</td>\n",
        "      <td> 59.543808</td>\n",
        "      <td>    5026.221784</td>\n",
        "      <td> 74.707624</td>\n",
        "      <td> 11.658954</td>\n",
        "      <td>  0.425897</td>\n",
        "    </tr>\n",
        "    <tr>\n",
        "      <th>India</th>\n",
        "      <td> IND</td>\n",
        "      <td> 1006300.297</td>\n",
        "      <td> 44.941600</td>\n",
        "      <td> 1728144.374800</td>\n",
        "      <td> 64.575551</td>\n",
        "      <td> 14.072206</td>\n",
        "      <td>  1.717325</td>\n",
        "    </tr>\n",
        "    <tr>\n",
        "      <th>South Africa</th>\n",
        "      <td> ZAF</td>\n",
        "      <td>   45064.098</td>\n",
        "      <td>  6.939830</td>\n",
        "      <td>  227242.369490</td>\n",
        "      <td> 72.718710</td>\n",
        "      <td>  5.726546</td>\n",
        "      <td>  5.042648</td>\n",
        "    </tr>\n",
        "    <tr>\n",
        "      <th>Uruguay</th>\n",
        "      <td> URY</td>\n",
        "      <td>    3219.793</td>\n",
        "      <td> 12.099592</td>\n",
        "      <td>   25255.961693</td>\n",
        "      <td> 78.978740</td>\n",
        "      <td>  5.108068</td>\n",
        "      <td>  7.843971</td>\n",
        "    </tr>\n",
        "    <tr>\n",
        "      <th>Argentina</th>\n",
        "      <td> ARG</td>\n",
        "      <td>   37335.653</td>\n",
        "      <td>  0.999500</td>\n",
        "      <td>  295072.218690</td>\n",
        "      <td> 75.716805</td>\n",
        "      <td>  5.578804</td>\n",
        "      <td>  7.903229</td>\n",
        "    </tr>\n",
        "    <tr>\n",
        "      <th>Israel</th>\n",
        "      <td> ISR</td>\n",
        "      <td>    6114.570</td>\n",
        "      <td>  4.077330</td>\n",
        "      <td>  129253.894230</td>\n",
        "      <td> 64.436451</td>\n",
        "      <td> 10.266688</td>\n",
        "      <td> 21.138673</td>\n",
        "    </tr>\n",
        "    <tr>\n",
        "      <th>Australia</th>\n",
        "      <td> AUS</td>\n",
        "      <td>   19053.186</td>\n",
        "      <td>  1.724830</td>\n",
        "      <td>  541804.652100</td>\n",
        "      <td> 67.759026</td>\n",
        "      <td>  6.720098</td>\n",
        "      <td> 28.436433</td>\n",
        "    </tr>\n",
        "    <tr>\n",
        "      <th>United States</th>\n",
        "      <td> USA</td>\n",
        "      <td>  282171.957</td>\n",
        "      <td>  1.000000</td>\n",
        "      <td> 9898700.000000</td>\n",
        "      <td> 72.347054</td>\n",
        "      <td>  6.032454</td>\n",
        "      <td> 35.080382</td>\n",
        "    </tr>\n",
        "  </tbody>\n",
        "</table>\n",
        "</div>"
       ],
       "metadata": {},
       "output_type": "pyout",
       "prompt_number": 97,
       "text": [
        "              country isocode          POP       XRAT           tcgdp  \\\n",
        "country                                                                 \n",
        "Malawi                    MWI    11801.505  59.543808     5026.221784   \n",
        "India                     IND  1006300.297  44.941600  1728144.374800   \n",
        "South Africa              ZAF    45064.098   6.939830   227242.369490   \n",
        "Uruguay                   URY     3219.793  12.099592    25255.961693   \n",
        "Argentina                 ARG    37335.653   0.999500   295072.218690   \n",
        "Israel                    ISR     6114.570   4.077330   129253.894230   \n",
        "Australia                 AUS    19053.186   1.724830   541804.652100   \n",
        "United States             USA   282171.957   1.000000  9898700.000000   \n",
        "\n",
        "                      cc         cg  GDP percap  \n",
        "country                                          \n",
        "Malawi         74.707624  11.658954    0.425897  \n",
        "India          64.575551  14.072206    1.717325  \n",
        "South Africa   72.718710   5.726546    5.042648  \n",
        "Uruguay        78.978740   5.108068    7.843971  \n",
        "Argentina      75.716805   5.578804    7.903229  \n",
        "Israel         64.436451  10.266688   21.138673  \n",
        "Australia      67.759026   6.720098   28.436433  \n",
        "United States  72.347054   6.032454   35.080382  "
       ]
      }
     ],
     "prompt_number": 97
    },
    {
     "cell_type": "markdown",
     "metadata": {},
     "source": [
      "Now we'll plot per capital GDP using the dataframe's plot method"
     ]
    },
    {
     "cell_type": "code",
     "collapsed": false,
     "input": [
      "df['GDP percap'].plot(kind='bar')"
     ],
     "language": "python",
     "metadata": {},
     "outputs": [
      {
       "metadata": {},
       "output_type": "pyout",
       "prompt_number": 98,
       "text": [
        "<matplotlib.axes._subplots.AxesSubplot at 0x7f7b17cfdb10>"
       ]
      },
      {
       "metadata": {},
       "output_type": "display_data",
       "png": "[encoded data removed]",
       "text": [
        "<matplotlib.figure.Figure at 0x7f7b17cfd310>"
       ]
      }
     ],
     "prompt_number": 98
    },
    {
     "cell_type": "heading",
     "level": 2,
     "metadata": {},
     "source": [
      "Exercises"
     ]
    },
    {
     "cell_type": "markdown",
     "metadata": {},
     "source": [
      "Here are two exercises.  Feel free to consult documentation such as can be found [here](http://docs.scipy.org/doc/scipy/reference/).  The solutions are below.  The cell with \"solution below\" is mean to push them below your line of sight and save you from temptation."
     ]
    },
    {
     "cell_type": "heading",
     "level": 4,
     "metadata": {},
     "source": [
      "Exercise 1"
     ]
    },
    {
     "cell_type": "markdown",
     "metadata": {},
     "source": [
      "Generate 10000 data points from the exponential distribution with density\n",
      "\n",
      "$$\n",
      "f(x; \\alpha) = \\alpha \\exp(-\\alpha x)\n",
      "\\qquad\n",
      "(x > 0, \\alpha > 0)\n",
      "$$\n",
      "\n",
      "using `scipy.stats` and taking $\\alpha = 0.5$.  Then, after looking up the maximum likelihood estimator of $\\alpha$, compute the estimate given your data and check that it is in fact close to $\\alpha$."
     ]
    },
    {
     "cell_type": "code",
     "collapsed": false,
     "input": [
      "# Put your solution here"
     ],
     "language": "python",
     "metadata": {},
     "outputs": [],
     "prompt_number": 99
    },
    {
     "cell_type": "heading",
     "level": 4,
     "metadata": {},
     "source": [
      "Exercise 2"
     ]
    },
    {
     "cell_type": "markdown",
     "metadata": {},
     "source": [
      "Using the same data set, implement maximum likelihood again, but this time pretending that you don't know the analytical expression for the maximum likelihood estimator.  Set up the log likelihood function and maximize it numerically using a routine from `scipy.optimize`."
     ]
    },
    {
     "cell_type": "code",
     "collapsed": false,
     "input": [
      "# Put your solution here"
     ],
     "language": "python",
     "metadata": {},
     "outputs": [],
     "prompt_number": 100
    },
    {
     "cell_type": "heading",
     "level": 2,
     "metadata": {},
     "source": [
      "Solutions"
     ]
    },
    {
     "cell_type": "code",
     "collapsed": false,
     "input": [
      "# Print some nonsense to partially hide solutions\n",
      "filler_text = \"solution below\\n\" * 25\n",
      "print(filler_text)"
     ],
     "language": "python",
     "metadata": {},
     "outputs": [
      {
       "output_type": "stream",
       "stream": "stdout",
       "text": [
        "solution below\n",
        "solution below\n",
        "solution below\n",
        "solution below\n",
        "solution below\n",
        "solution below\n",
        "solution below\n",
        "solution below\n",
        "solution below\n",
        "solution below\n",
        "solution below\n",
        "solution below\n",
        "solution below\n",
        "solution below\n",
        "solution below\n",
        "solution below\n",
        "solution below\n",
        "solution below\n",
        "solution below\n",
        "solution below\n",
        "solution below\n",
        "solution below\n",
        "solution below\n",
        "solution below\n",
        "solution below\n",
        "\n"
       ]
      }
     ],
     "prompt_number": 101
    },
    {
     "cell_type": "heading",
     "level": 4,
     "metadata": {},
     "source": [
      "Solution to Exercise 1"
     ]
    },
    {
     "cell_type": "markdown",
     "metadata": {},
     "source": [
      "After checking [the docs for the exponential distribution](http://docs.scipy.org/doc/scipy/reference/generated/scipy.stats.expon.html) we proceed as follows"
     ]
    },
    {
     "cell_type": "code",
     "collapsed": false,
     "input": [
      "from scipy.stats import expon\n",
      "alpha = 0.5\n",
      "n = 10000\n",
      "ep = expon(scale=1.0/alpha)  # scale controls the exponential parameter\n",
      "x = ep.rvs(n)"
     ],
     "language": "python",
     "metadata": {},
     "outputs": [],
     "prompt_number": 102
    },
    {
     "cell_type": "markdown",
     "metadata": {},
     "source": [
      "Let's check we've got the right distribution here"
     ]
    },
    {
     "cell_type": "code",
     "collapsed": false,
     "input": [
      "fig, ax = plt.subplots(figsize=(8, 5))\n",
      "xmin, xmax = 0.001, 10.0\n",
      "ax.set_xlim(xmin, xmax)\n",
      "ax.hist(x, normed=True, bins=40, alpha=0.3)\n",
      "grid = np.linspace(xmin, xmax, 200)\n",
      "ax.plot(grid, ep.pdf(grid), 'g-', lw=2, label='true density')\n",
      "ax.legend()"
     ],
     "language": "python",
     "metadata": {},
     "outputs": [
      {
       "metadata": {},
       "output_type": "pyout",
       "prompt_number": 103,
       "text": [
        "<matplotlib.legend.Legend at 0x7f7b172d9650>"
       ]
      },
      {
       "metadata": {},
       "output_type": "display_data",
       "png": "[encoded data removed]",
       "text": [
        "<matplotlib.figure.Figure at 0x7f7b1741c6d0>"
       ]
      }
     ],
     "prompt_number": 103
    },
    {
     "cell_type": "markdown",
     "metadata": {},
     "source": [
      "It's [well-known](http://en.wikipedia.org/wiki/Exponential_distribution) that the MLE of $\\alpha$ is $1/\\bar x$ where $\\bar x$ is the mean of the sample.  Let's check that it is indeed close to $\\alpha$."
     ]
    },
    {
     "cell_type": "code",
     "collapsed": false,
     "input": [
      "alpha_mle = 1.0 / x.mean()\n",
      "print(\"max likelihood estimate of alpha is {}\".format(alpha_mle))"
     ],
     "language": "python",
     "metadata": {},
     "outputs": [
      {
       "output_type": "stream",
       "stream": "stdout",
       "text": [
        "max likelihood estimate of alpha is 0.503943792716\n"
       ]
      }
     ],
     "prompt_number": 104
    },
    {
     "cell_type": "code",
     "collapsed": false,
     "input": [
      "s = x.sum()\n",
      "def neg_loglike(a):\n",
      "    \"Minus the log likelihood function for exponential\"\n",
      "    return - n * np.log(a) + a * s"
     ],
     "language": "python",
     "metadata": {},
     "outputs": [],
     "prompt_number": 105
    },
    {
     "cell_type": "markdown",
     "metadata": {},
     "source": [
      "Minimize over a reasonable parameter space"
     ]
    },
    {
     "cell_type": "code",
     "collapsed": false,
     "input": [
      "from scipy.optimize import fminbound\n",
      "fminbound(neg_loglike, 0.01, 10.0)"
     ],
     "language": "python",
     "metadata": {},
     "outputs": [
      {
       "metadata": {},
       "output_type": "pyout",
       "prompt_number": 106,
       "text": [
        "0.50394289040594742"
       ]
      }
     ],
     "prompt_number": 106
    },
    {
     "cell_type": "markdown",
     "metadata": {},
     "source": [
      "This is very close to the analytical value of the max likelihood estimator we got in exercise 1"
     ]
    }
   ],
   "metadata": {}
  }
 ]
}